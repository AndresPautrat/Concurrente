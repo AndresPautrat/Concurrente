{
  "nbformat": 4,
  "nbformat_minor": 0,
  "metadata": {
    "colab": {
      "name": "PCD.ipynb",
      "provenance": [],
      "authorship_tag": "ABX9TyMmgquPn2jBzPdGHK83qupK",
      "include_colab_link": true
    },
    "kernelspec": {
      "name": "python3",
      "display_name": "Python 3"
    }
  },
  "cells": [
    {
      "cell_type": "markdown",
      "metadata": {
        "id": "view-in-github",
        "colab_type": "text"
      },
      "source": [
        "<a href=\"https://colab.research.google.com/github/AndresPautrat/Concurrente/blob/main/C%2B%2B_OMP_Concurrente.ipynb\" target=\"_parent\"><img src=\"https://colab.research.google.com/assets/colab-badge.svg\" alt=\"Open In Colab\"/></a>"
      ]
    },
    {
      "cell_type": "code",
      "metadata": {
        "id": "wi1u6NXhQvpp",
        "colab": {
          "base_uri": "https://localhost:8080/",
          "height": 35
        },
        "outputId": "4e0732a1-c4c8-422e-abfa-031a5ee53f64"
      },
      "source": [
        "%%writefile 1.cpp\n",
        "#include <stdio.h>\n",
        "#include <omp.h>\n",
        "\n",
        "int main(){\n",
        "    \n",
        "  #pragma omp parallel\n",
        "  {\n",
        "    int id=omp_get_thread_num();\n",
        "    printf(\"Hello%d, \",id);\n",
        "    printf(\"World(%d)!\\n \",id);\n",
        "  }\n",
        "  return 0;\n",
        "}"
      ],
      "execution_count": null,
      "outputs": [
        {
          "output_type": "stream",
          "text": [
            "Overwriting 1.cpp\n"
          ],
          "name": "stdout"
        }
      ]
    },
    {
      "cell_type": "code",
      "metadata": {
        "id": "8FixnD07THPj",
        "colab": {
          "base_uri": "https://localhost:8080/",
          "height": 72
        },
        "outputId": "241c00e5-9309-453a-8c8c-6738940a4d1c"
      },
      "source": [
        "!g++ -std=c++17 -fopenmp 1.cpp && ./a.out"
      ],
      "execution_count": null,
      "outputs": [
        {
          "output_type": "stream",
          "text": [
            "Hello0, World(0)!\n",
            " Hello1, World(1)!\n",
            " "
          ],
          "name": "stdout"
        }
      ]
    },
    {
      "cell_type": "code",
      "metadata": {
        "id": "DhCnbawJTQTb",
        "colab": {
          "base_uri": "https://localhost:8080/",
          "height": 34
        },
        "outputId": "09d6752e-7996-428c-8a61-7f6b32fa46d1"
      },
      "source": [
        "%%writefile 2.cpp\n",
        "#include <stdio.h>\n",
        "#include <omp.h>\n",
        "double calPi(int num_steps){\n",
        "    double step;\n",
        "    double x,pi,sum=.0;\n",
        "    step=1./(double)num_steps;\n",
        "    for (int i=0;i<num_steps;i++){\n",
        "        x=(i+.5)*step;\n",
        "        sum+=4./(1+x*x);\n",
        "    }\n",
        "    pi=sum/num_steps;\n",
        "    return pi;\n",
        "}\n",
        "\n",
        "int main(){\n",
        "    double pi;\n",
        "    double t=omp_get_wtime();\n",
        "    pi=calPi(100000);\n",
        "    double et=omp_get_wtime()-t;\n",
        "    printf(\"Pi = %lf time = %lfs\\n\",pi,et);\n",
        "    return 0;\n",
        "}"
      ],
      "execution_count": null,
      "outputs": [
        {
          "output_type": "stream",
          "text": [
            "Overwriting 2.cpp\n"
          ],
          "name": "stdout"
        }
      ]
    },
    {
      "cell_type": "code",
      "metadata": {
        "id": "rt1Mn0evcvfR",
        "colab": {
          "base_uri": "https://localhost:8080/",
          "height": 34
        },
        "outputId": "e3cf2085-b18b-481b-b36a-1d9a16bdb439"
      },
      "source": [
        "!g++ -std=c++17 -fopenmp 2.cpp && ./a.out"
      ],
      "execution_count": null,
      "outputs": [
        {
          "output_type": "stream",
          "text": [
            "Pi = 3.141593 time = 0.001715s\n"
          ],
          "name": "stdout"
        }
      ]
    },
    {
      "cell_type": "code",
      "metadata": {
        "id": "NJM4INShc4WK",
        "colab": {
          "base_uri": "https://localhost:8080/",
          "height": 34
        },
        "outputId": "8e43aa62-34ad-4825-af49-66d817fad1c5"
      },
      "source": [
        "%%writefile 3.cpp\n",
        "#include <stdio.h>\n",
        "#include <omp.h>\n",
        "\n",
        "#define PAD 16\n",
        "#define NUM_THREADS 2\n",
        "double calPi(int num_steps){\n",
        "    double step;\n",
        "    int nthreads;\n",
        "    double pi,sum[2];\n",
        "    step=1./(double)num_steps;\n",
        "    omp_set_num_threads(NUM_THREADS);\n",
        "    #pragma omp parallel\n",
        "    {\n",
        "      int nthrds;\n",
        "      int id=omp_get_thread_num();\n",
        "      double x;\n",
        "     if(id==0)nthreads=nthrds;\n",
        "     sum[id][0]=0.0;\n",
        "      for (int i=id;i<num_steps;i++){\n",
        "          x=(i+.5)*step;\n",
        "          sum+=4./(1+x*x);\n",
        "      }\n",
        "    } \n",
        "    for(int i = 0; i<nthreads; i++){\n",
        "        pi+=sum[i];\n",
        "    }\n",
        "    pi=sum/num_steps;\n",
        "    return pi;\n",
        "}\n",
        "\n",
        "int main(){\n",
        "    double pi;\n",
        "    double t=omp_get_wtime();\n",
        "    pi=calPi(100000);\n",
        "    double et=omp_get_wtime()-t;\n",
        "    printf(\"Pi = %lf time = %lfs\\n\",pi,et);\n",
        "    return 0;\n",
        "}"
      ],
      "execution_count": null,
      "outputs": [
        {
          "output_type": "stream",
          "text": [
            "Overwriting 3.cpp\n"
          ],
          "name": "stdout"
        }
      ]
    },
    {
      "cell_type": "code",
      "metadata": {
        "id": "1fm09dfIjZ1T",
        "colab": {
          "base_uri": "https://localhost:8080/",
          "height": 187
        },
        "outputId": "bb852b8a-0f2e-42a9-df3c-19228f8bf318"
      },
      "source": [
        "!g++ -std=c++17 -fopenmp 3.cpp && ./a.out"
      ],
      "execution_count": null,
      "outputs": [
        {
          "output_type": "stream",
          "text": [
            "\u001b[01m\u001b[K3.cpp:\u001b[m\u001b[K In function ‘\u001b[01m\u001b[Kdouble calPi(int)\u001b[m\u001b[K’:\n",
            "\u001b[01m\u001b[K3.cpp:20:14:\u001b[m\u001b[K \u001b[01;31m\u001b[Kerror: \u001b[m\u001b[Kinvalid operands of types ‘\u001b[01m\u001b[Kdouble [2]\u001b[m\u001b[K’ and ‘\u001b[01m\u001b[Kdouble\u001b[m\u001b[K’ to binary ‘\u001b[01m\u001b[Koperator+\u001b[m\u001b[K’\n",
            "           \u001b[01;31m\u001b[Ksum+=4./(1+x*x)\u001b[m\u001b[K;\n",
            "           \u001b[01;31m\u001b[K~~~^~~~~~~~~~~~\u001b[m\u001b[K\n",
            "\u001b[01m\u001b[K3.cpp:20:25:\u001b[m\u001b[K \u001b[01;31m\u001b[Kerror: \u001b[m\u001b[K  in evaluation of ‘\u001b[01m\u001b[Koperator+=(double [2], double)\u001b[m\u001b[K’\n",
            "           sum+=4./(1+x*x\u001b[01;31m\u001b[K)\u001b[m\u001b[K;\n",
            "                         \u001b[01;31m\u001b[K^\u001b[m\u001b[K\n",
            "\u001b[01m\u001b[K3.cpp:26:11:\u001b[m\u001b[K \u001b[01;31m\u001b[Kerror: \u001b[m\u001b[Kinvalid operands of types ‘\u001b[01m\u001b[Kdouble [2]\u001b[m\u001b[K’ and ‘\u001b[01m\u001b[Kint\u001b[m\u001b[K’ to binary ‘\u001b[01m\u001b[Koperator/\u001b[m\u001b[K’\n",
            "     pi=\u001b[01;31m\u001b[Ksum/num_steps\u001b[m\u001b[K;\n",
            "        \u001b[01;31m\u001b[K~~~^~~~~~~~~~\u001b[m\u001b[K\n"
          ],
          "name": "stdout"
        }
      ]
    },
    {
      "cell_type": "code",
      "metadata": {
        "id": "vYU1LC9bjbzT"
      },
      "source": [
        ""
      ],
      "execution_count": null,
      "outputs": []
    }
  ]
}