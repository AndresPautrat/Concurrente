{
  "nbformat": 4,
  "nbformat_minor": 0,
  "metadata": {
    "colab": {
      "name": "ExamenParcialPregunta3.ipynb",
      "provenance": [],
      "authorship_tag": "ABX9TyOalkMUNU4vNnKisWz1HXI3",
      "include_colab_link": true
    },
    "kernelspec": {
      "name": "python3",
      "display_name": "Python 3"
    }
  },
  "cells": [
    {
      "cell_type": "markdown",
      "metadata": {
        "id": "view-in-github",
        "colab_type": "text"
      },
      "source": [
        "<a href=\"https://colab.research.google.com/github/AndresPautrat/Concurrente/blob/main/ExamenParcial_Promela.ipynb\" target=\"_parent\"><img src=\"https://colab.research.google.com/assets/colab-badge.svg\" alt=\"Open In Colab\"/></a>"
      ]
    },
    {
      "cell_type": "markdown",
      "metadata": {
        "id": "sRWLejI0N464"
      },
      "source": [
        "#Explicación del procedimiento de verificación:\n",
        "Para verificar se puede usar el metodo assert(condicion) el cual verifica si la expresion dentro de la funcion siempre se cumpla, en caso que falle aparecera el mensaje assertion violated.\n",
        "\n",
        "La segunda opcion es usar comandos para que promela busque errores por su propia cuenta.\n",
        "\n",
        "#Comandos para realizar la verificación.\n",
        "para usar assert se tiene que correr el codigo: !spin -run nombre.pml\n",
        "este comando tambien da la verificacion automatica\n",
        "\n",
        "#Explicación de cómo realizar la interpretación.\n",
        "Esto depende de si se usa el assert o la deteccion automatica, si se usa el assert como programador se estara buscando un error especifico y se sabra directamente que se debe interpretar.\n",
        "Si se usa la deteccion automatica debera verse la linea de codigo y analisarse. tambien podrian hacerse pruebas con prints para verificar si es un deadlook y nunca imprime, si el resultado siempre es el mismo o si las secciones criticas se causan conflictos entre si."
      ]
    },
    {
      "cell_type": "code",
      "metadata": {
        "id": "n1L0aCDVNZ7n",
        "colab": {
          "base_uri": "https://localhost:8080/",
          "height": 301
        },
        "outputId": "e7f58ab4-3897-4b9f-f211-88c4890c33f4"
      },
      "source": [
        "!apt install spin"
      ],
      "execution_count": null,
      "outputs": [
        {
          "output_type": "stream",
          "text": [
            "Reading package lists... Done\n",
            "Building dependency tree       \n",
            "Reading state information... Done\n",
            "The following NEW packages will be installed:\n",
            "  spin\n",
            "0 upgraded, 1 newly installed, 0 to remove and 22 not upgraded.\n",
            "Need to get 559 kB of archives.\n",
            "After this operation, 1,776 kB of additional disk space will be used.\n",
            "Get:1 http://archive.ubuntu.com/ubuntu bionic/universe amd64 spin amd64 6.4.6+dfsg-2 [559 kB]\n",
            "Fetched 559 kB in 1s (600 kB/s)\n",
            "Selecting previously unselected package spin.\n",
            "(Reading database ... 153160 files and directories currently installed.)\n",
            "Preparing to unpack .../spin_6.4.6+dfsg-2_amd64.deb ...\n",
            "Unpacking spin (6.4.6+dfsg-2) ...\n",
            "Setting up spin (6.4.6+dfsg-2) ...\n",
            "Processing triggers for man-db (2.8.3-2ubuntu0.1) ...\n"
          ],
          "name": "stdout"
        }
      ]
    },
    {
      "cell_type": "code",
      "metadata": {
        "id": "9YqYlouUQi6o",
        "colab": {
          "base_uri": "https://localhost:8080/",
          "height": 34
        },
        "outputId": "f5981b4b-f711-454f-f1f2-9dba20b17673"
      },
      "source": [
        "%%writefile exclusion.pml\n",
        "bool wantp=false\n",
        "bool wantq=false\n",
        "int count\n",
        "active proctype P(){\n",
        "    do\n",
        "    :: wantq==false->\n",
        "        wantp=true\n",
        "        count++\n",
        "        assert(count<2)\n",
        "        count--\n",
        "        wantp=false\n",
        "    od\n",
        "}\n",
        "active proctype Q(){\n",
        "    do\n",
        "    :: wantp==false->\n",
        "        wantq=true\n",
        "        count++\n",
        "        assert(count<2)\n",
        "        count--\n",
        "        wantq=false\n",
        "    od\n",
        "}"
      ],
      "execution_count": null,
      "outputs": [
        {
          "output_type": "stream",
          "text": [
            "Writing exclusion.pml\n"
          ],
          "name": "stdout"
        }
      ]
    },
    {
      "cell_type": "markdown",
      "metadata": {
        "id": "cF5j2NGtRN2C"
      },
      "source": [
        "Aqui vemos como ambas secciones criticas entran al mismo tiempo y el contador llega a ser 2 cuando no deberia pasar de 1"
      ]
    },
    {
      "cell_type": "code",
      "metadata": {
        "id": "lgrjbSCXQvAd",
        "colab": {
          "base_uri": "https://localhost:8080/",
          "height": 550
        },
        "outputId": "3cc9ebb2-a289-4ac5-ae56-20caf125e0e7"
      },
      "source": [
        "!spin -run exclusion.pml"
      ],
      "execution_count": null,
      "outputs": [
        {
          "output_type": "stream",
          "text": [
            "pan:1: assertion violated (count<2) (at depth 7)\n",
            "pan: wrote exclusion.pml.trail\n",
            "\n",
            "(Spin Version 6.4.6 -- 2 December 2016)\n",
            "Warning: Search not completed\n",
            "\t+ Partial Order Reduction\n",
            "\n",
            "Full statespace search for:\n",
            "\tnever claim         \t- (none specified)\n",
            "\tassertion violations\t+\n",
            "\tcycle checks       \t- (disabled by -DSAFETY)\n",
            "\tinvalid end states\t+\n",
            "\n",
            "State-vector 28 byte, depth reached 11, errors: 1\n",
            "       22 states, stored\n",
            "       10 states, matched\n",
            "       32 transitions (= stored+matched)\n",
            "        0 atomic steps\n",
            "hash conflicts:         0 (resolved)\n",
            "\n",
            "Stats on memory usage (in Megabytes):\n",
            "    0.001\tequivalent memory usage for states (stored*(State-vector + overhead))\n",
            "    0.291\tactual memory usage for states\n",
            "  128.000\tmemory used for hash table (-w24)\n",
            "    0.534\tmemory used for DFS stack (-m10000)\n",
            "  128.730\ttotal actual memory usage\n",
            "\n",
            "\n",
            "\n",
            "pan: elapsed time 0 seconds\n"
          ],
          "name": "stdout"
        }
      ]
    },
    {
      "cell_type": "code",
      "metadata": {
        "id": "XFPLkq-iQ-me",
        "colab": {
          "base_uri": "https://localhost:8080/",
          "height": 34
        },
        "outputId": "f0c188e9-6398-4fa5-c0f2-d50161c40c89"
      },
      "source": [
        "%%writefile deadlock.pml\n",
        "#define wait(s) atomic { s > 0 -> s-- }\n",
        "#define signal(s) s++\n",
        "\n",
        "byte forks[5] = { 1, 1, 1, 1, 1 }\n",
        "\n",
        "active[5] proctype Philosopher() {\n",
        "    byte i = _pid\n",
        "    do\n",
        "    ::\n",
        "        printf(\"%d thinking\\n\", i)\n",
        "\n",
        "        wait(forks[i])\n",
        "        assert(forks[0]+forks[1]+forks[2]+forks[3]+forks[4]<5)\n",
        "        wait(forks[(i+1) % 5])\n",
        "\n",
        "        printf(\"%d eat\\n\", i)\n",
        "\n",
        "        signal(forks[i])\n",
        "        signal(forks[(i+1) % 5])\n",
        "    od\n",
        "}\n"
      ],
      "execution_count": null,
      "outputs": [
        {
          "output_type": "stream",
          "text": [
            "Overwriting deadlock.pml\n"
          ],
          "name": "stdout"
        }
      ]
    },
    {
      "cell_type": "markdown",
      "metadata": {
        "id": "YTUjn507TO15"
      },
      "source": [
        "En este caso puede suceder que todos los procesos entren a la linea wait(forks[i]) al mismo tiempo y por lo tanto no podran pasar de la linea wait(forks[(i+1) % 5]) y todos los procesos se trabaran."
      ]
    },
    {
      "cell_type": "code",
      "metadata": {
        "id": "m8IhMxxoR5TX",
        "colab": {
          "base_uri": "https://localhost:8080/",
          "height": 550
        },
        "outputId": "9009b8e0-74f7-46b9-f46d-1ca9a096f3c4"
      },
      "source": [
        "!spin -run deadlock.pml"
      ],
      "execution_count": null,
      "outputs": [
        {
          "output_type": "stream",
          "text": [
            "pan:1: invalid end state (at depth 68)\n",
            "pan: wrote deadlock.pml.trail\n",
            "\n",
            "(Spin Version 6.4.6 -- 2 December 2016)\n",
            "Warning: Search not completed\n",
            "\t+ Partial Order Reduction\n",
            "\n",
            "Full statespace search for:\n",
            "\tnever claim         \t- (none specified)\n",
            "\tassertion violations\t+\n",
            "\tcycle checks       \t- (disabled by -DSAFETY)\n",
            "\tinvalid end states\t+\n",
            "\n",
            "State-vector 52 byte, depth reached 69, errors: 1\n",
            "       70 states, stored\n",
            "       13 states, matched\n",
            "       83 transitions (= stored+matched)\n",
            "        0 atomic steps\n",
            "hash conflicts:         0 (resolved)\n",
            "\n",
            "Stats on memory usage (in Megabytes):\n",
            "    0.005\tequivalent memory usage for states (stored*(State-vector + overhead))\n",
            "    0.291\tactual memory usage for states\n",
            "  128.000\tmemory used for hash table (-w24)\n",
            "    0.534\tmemory used for DFS stack (-m10000)\n",
            "  128.730\ttotal actual memory usage\n",
            "\n",
            "\n",
            "\n",
            "pan: elapsed time 0 seconds\n"
          ],
          "name": "stdout"
        }
      ]
    },
    {
      "cell_type": "code",
      "metadata": {
        "id": "513ZgeP7R8UV",
        "colab": {
          "base_uri": "https://localhost:8080/",
          "height": 34
        },
        "outputId": "a03c8f19-6faf-46da-f48f-8d2fb021f405"
      },
      "source": [
        "%%writefile livelock.pml\n",
        "#define wait(s) atomic { s > 0 -> s-- }\n",
        "#define signal(s) s++\n",
        "\n",
        "byte roomEmpty = 1\n",
        "byte readers = 0\n",
        "byte mutex = 1\n",
        "\n",
        "active proctype Writer() {\n",
        "    do\n",
        "    ::\n",
        "        wait(roomEmpty)\n",
        "        printf(\"Writer writing!\\n\")\n",
        "        signal(roomEmpty)\n",
        "    od\n",
        "}\n",
        "\n",
        "active[3] proctype Reader() {\n",
        "    do\n",
        "    ::\n",
        "        wait(mutex)\n",
        "        readers++\n",
        "        if\n",
        "        :: readers == 1 -> wait(roomEmpty)\n",
        "        :: else -> skip\n",
        "        fi\n",
        "        signal(mutex)\n",
        "\n",
        "        printf(\"Student%d 1\\n\", _pid)\n",
        "\n",
        "        wait(mutex)\n",
        "        readers--\n",
        "        if\n",
        "        :: readers == 0 -> signal(roomEmpty)\n",
        "        :: else -> skip\n",
        "        fi\n",
        "        signal(mutex)\n",
        "    od\n",
        "}"
      ],
      "execution_count": null,
      "outputs": [
        {
          "output_type": "stream",
          "text": [
            "Writing livelock.pml\n"
          ],
          "name": "stdout"
        }
      ]
    },
    {
      "cell_type": "markdown",
      "metadata": {
        "id": "x5mZ4qKSUcj5"
      },
      "source": [
        "Este es una ejemplo de live lock ya que puede suceder que los Readers siempre entren y no permitan que los Writer tomen su turno."
      ]
    },
    {
      "cell_type": "code",
      "metadata": {
        "id": "h5RfFnwOUKT4",
        "colab": {
          "base_uri": "https://localhost:8080/",
          "height": 603
        },
        "outputId": "b75498f8-d441-4ab2-e48e-51afcebe1083"
      },
      "source": [
        "!spin -run livelock.pml"
      ],
      "execution_count": null,
      "outputs": [
        {
          "output_type": "stream",
          "text": [
            "\n",
            "(Spin Version 6.4.6 -- 2 December 2016)\n",
            "\t+ Partial Order Reduction\n",
            "\n",
            "Full statespace search for:\n",
            "\tnever claim         \t- (none specified)\n",
            "\tassertion violations\t+\n",
            "\tcycle checks       \t- (disabled by -DSAFETY)\n",
            "\tinvalid end states\t+\n",
            "\n",
            "State-vector 44 byte, depth reached 79, errors: 0\n",
            "      145 states, stored\n",
            "       70 states, matched\n",
            "      215 transitions (= stored+matched)\n",
            "        0 atomic steps\n",
            "hash conflicts:         0 (resolved)\n",
            "\n",
            "Stats on memory usage (in Megabytes):\n",
            "    0.010\tequivalent memory usage for states (stored*(State-vector + overhead))\n",
            "    0.289\tactual memory usage for states\n",
            "  128.000\tmemory used for hash table (-w24)\n",
            "    0.534\tmemory used for DFS stack (-m10000)\n",
            "  128.730\ttotal actual memory usage\n",
            "\n",
            "\n",
            "unreached in proctype Writer\n",
            "\tlivelock.pml:15, state 9, \"-end-\"\n",
            "\t(1 of 9 states)\n",
            "unreached in proctype Reader\n",
            "\tlivelock.pml:38, state 29, \"-end-\"\n",
            "\t(1 of 29 states)\n",
            "\n",
            "pan: elapsed time 0 seconds\n"
          ],
          "name": "stdout"
        }
      ]
    },
    {
      "cell_type": "code",
      "metadata": {
        "id": "9vJhd6ILUM65"
      },
      "source": [
        ""
      ],
      "execution_count": null,
      "outputs": []
    }
  ]
}