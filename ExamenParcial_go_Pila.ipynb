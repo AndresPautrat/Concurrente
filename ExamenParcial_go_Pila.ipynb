{
  "nbformat": 4,
  "nbformat_minor": 0,
  "metadata": {
    "colab": {
      "name": "ExamenParcialPregunta1.ipynb",
      "provenance": [],
      "authorship_tag": "ABX9TyPzAM/M0hEKOlk2Hz6rW8KL",
      "include_colab_link": true
    },
    "kernelspec": {
      "name": "python3",
      "display_name": "Python 3"
    }
  },
  "cells": [
    {
      "cell_type": "markdown",
      "metadata": {
        "id": "view-in-github",
        "colab_type": "text"
      },
      "source": [
        "<a href=\"https://colab.research.google.com/github/AndresPautrat/Concurrente/blob/main/ExamenParcial_go_Pila.ipynb\" target=\"_parent\"><img src=\"https://colab.research.google.com/assets/colab-badge.svg\" alt=\"Open In Colab\"/></a>"
      ]
    },
    {
      "cell_type": "code",
      "metadata": {
        "id": "tPzGZZTxAtV0"
      },
      "source": [
        "!apt install golang"
      ],
      "execution_count": null,
      "outputs": []
    },
    {
      "cell_type": "markdown",
      "metadata": {
        "id": "WGgXo8kMLzZF"
      },
      "source": [
        "Intento 1 fallido :c"
      ]
    },
    {
      "cell_type": "code",
      "metadata": {
        "id": "F3MYhxl1Au48",
        "colab": {
          "base_uri": "https://localhost:8080/",
          "height": 34
        },
        "outputId": "7d8fc5f3-478a-49b3-c4f1-4a7c11989030"
      },
      "source": [
        "%%writefile pregunta1.go\n",
        "package main\n",
        "import (\n",
        "    \"fmt\"\n",
        ")\n",
        "\n",
        "var pila [1]int\n",
        "\n",
        "func Push(newNum int) {\n",
        "    pila = []int{1,2,3,4,5}\n",
        "    pila = append([]int{1,2,3,4,5})\n",
        "}\n",
        "\n",
        "func main() {\n",
        "    Push(4)\n",
        "\n",
        "    fmt.Println(\"hola\")\n",
        "}"
      ],
      "execution_count": null,
      "outputs": [
        {
          "output_type": "stream",
          "text": [
            "Overwriting pregunta1.go\n"
          ],
          "name": "stdout"
        }
      ]
    },
    {
      "cell_type": "markdown",
      "metadata": {
        "id": "2gZhTbd4L2cW"
      },
      "source": [
        "Intento 2 que funciona :c"
      ]
    },
    {
      "cell_type": "code",
      "metadata": {
        "id": "vX37s07JKfFe",
        "colab": {
          "base_uri": "https://localhost:8080/",
          "height": 34
        },
        "outputId": "e6c26662-d03e-466f-f2ba-74b126363634"
      },
      "source": [
        "%%writefile pregunta1.go\n",
        "package main\n",
        "import (\n",
        "    \"errors\"\n",
        "    \"fmt\"\n",
        ")\n",
        "\n",
        "type Pila struct {\n",
        "    pila []int\n",
        "}\n",
        "\n",
        "func NewPila() *Pila {\n",
        "    return &Pila{make([]int, 0)}\n",
        "}\n",
        "\n",
        "func (s *Pila) push(item int) {\n",
        "\n",
        "    s.pila = append(s.pila, item)\n",
        "}\n",
        "\n",
        "func (s *Pila) Pop() (int, error) {\n",
        "    l := len(s.pila)\n",
        "    if l == 0 {\n",
        "        return -1, errors.New(\"Empty Stack\")\n",
        "    }\n",
        "\n",
        "    ans := s.pila[l-1]\n",
        "    s.pila = s.pila[:l-1]\n",
        "    return ans, errors.New(\"No errors\")\n",
        "}\n",
        "\n",
        "func main() {\n",
        "    s := NewPila()\n",
        "    s.push(1)\n",
        "    s.push(2)\n",
        "    s.push(3)\n",
        "    fmt.Println(s.Pop())\n",
        "    fmt.Println(s.Pop())\n",
        "    fmt.Println(s.Pop())\n",
        "}"
      ],
      "execution_count": null,
      "outputs": [
        {
          "output_type": "stream",
          "text": [
            "Overwriting pregunta1.go\n"
          ],
          "name": "stdout"
        }
      ]
    },
    {
      "cell_type": "code",
      "metadata": {
        "id": "cmMsFjwPCXQo",
        "colab": {
          "base_uri": "https://localhost:8080/",
          "height": 70
        },
        "outputId": "857b0cee-f1f8-477b-840a-60c63a7a3df3"
      },
      "source": [
        "!go run pregunta1.go"
      ],
      "execution_count": null,
      "outputs": [
        {
          "output_type": "stream",
          "text": [
            "3 No errors\n",
            "2 No errors\n",
            "1 No errors\n"
          ],
          "name": "stdout"
        }
      ]
    }
  ]
}