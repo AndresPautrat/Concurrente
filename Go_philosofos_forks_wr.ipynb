{
  "nbformat": 4,
  "nbformat_minor": 0,
  "metadata": {
    "colab": {
      "name": "PCD philosofos forks wr.ipynb",
      "provenance": [],
      "collapsed_sections": [],
      "authorship_tag": "ABX9TyPDehn7/NHFGYp0PqVMklCq",
      "include_colab_link": true
    },
    "kernelspec": {
      "name": "python3",
      "display_name": "Python 3"
    }
  },
  "cells": [
    {
      "cell_type": "markdown",
      "metadata": {
        "id": "view-in-github",
        "colab_type": "text"
      },
      "source": [
        "<a href=\"https://colab.research.google.com/github/AndresPautrat/Concurrente/blob/main/Go_philosofos_forks_wr.ipynb\" target=\"_parent\"><img src=\"https://colab.research.google.com/assets/colab-badge.svg\" alt=\"Open In Colab\"/></a>"
      ]
    },
    {
      "cell_type": "code",
      "metadata": {
        "id": "IyWGcb5-PhqS"
      },
      "source": [
        "!apt install golang"
      ],
      "execution_count": null,
      "outputs": []
    },
    {
      "cell_type": "code",
      "metadata": {
        "id": "0A1je-gqPlbK",
        "colab": {
          "base_uri": "https://localhost:8080/",
          "height": 34
        },
        "outputId": "3f3ca97f-a2cc-43bf-b8c3-3f59ebf12dee"
      },
      "source": [
        "%%writefile dp.go\n",
        "package main\n",
        "\n",
        "import (\n",
        "    //\"fmt\"\n",
        "    \"sync\"\n",
        ")\n",
        "\n",
        "func philosopher(id int, rightFork, leftFork,sync.Mutex){\n",
        "    for{\n",
        "        //thinking\n",
        "        rightFork.Lock()\n",
        "        leftFork.Lock()\n",
        "        //eat\n",
        "        rightFork.Unlock()\n",
        "        leftFork.Unlock()\n",
        "    }\n",
        "}\n",
        "\n",
        "func main(){\n",
        "    n:=5\n",
        "    fork :=make([]sync.Mutex,n)\n",
        "    for i:=0;i<n;i++{\n",
        "        go philosopher(i,fork[i],forks[i+1])\n",
        "    }\n",
        "    philosopher(n-1,forks[n-1],forks[0])\n",
        "}"
      ],
      "execution_count": null,
      "outputs": [
        {
          "output_type": "stream",
          "text": [
            "Overwriting dp.go\n"
          ],
          "name": "stdout"
        }
      ]
    },
    {
      "cell_type": "code",
      "metadata": {
        "id": "kuk4M_wIRjmI",
        "colab": {
          "base_uri": "https://localhost:8080/",
          "height": 51
        },
        "outputId": "97f508a7-3d81-44ea-fd7c-31ef85047753"
      },
      "source": [
        "!go run dp.go"
      ],
      "execution_count": null,
      "outputs": [
        {
          "output_type": "stream",
          "text": [
            "# command-line-arguments\n",
            "./dp.go:8:17: syntax error: mixed named and unnamed function parameters\n"
          ],
          "name": "stdout"
        }
      ]
    },
    {
      "cell_type": "code",
      "metadata": {
        "id": "rxigUxizSaIj",
        "colab": {
          "base_uri": "https://localhost:8080/",
          "height": 289
        },
        "outputId": "92f69096-bee9-4221-dca5-69370df1a218"
      },
      "source": [
        "!apt install spin"
      ],
      "execution_count": null,
      "outputs": [
        {
          "output_type": "stream",
          "text": [
            "Reading package lists... Done\n",
            "Building dependency tree       \n",
            "Reading state information... Done\n",
            "The following NEW packages will be installed:\n",
            "  spin\n",
            "0 upgraded, 1 newly installed, 0 to remove and 11 not upgraded.\n",
            "Need to get 559 kB of archives.\n",
            "After this operation, 1,776 kB of additional disk space will be used.\n",
            "Get:1 http://archive.ubuntu.com/ubuntu bionic/universe amd64 spin amd64 6.4.6+dfsg-2 [559 kB]\n",
            "Fetched 559 kB in 1s (530 kB/s)\n",
            "Selecting previously unselected package spin.\n",
            "(Reading database ... 153218 files and directories currently installed.)\n",
            "Preparing to unpack .../spin_6.4.6+dfsg-2_amd64.deb ...\n",
            "Unpacking spin (6.4.6+dfsg-2) ...\n",
            "Setting up spin (6.4.6+dfsg-2) ...\n",
            "Processing triggers for man-db (2.8.3-2ubuntu0.1) ...\n"
          ],
          "name": "stdout"
        }
      ]
    },
    {
      "cell_type": "code",
      "metadata": {
        "id": "F5cP6UQXRovO",
        "colab": {
          "base_uri": "https://localhost:8080/",
          "height": 34
        },
        "outputId": "17002003-1055-4928-c0b4-87738f46cbb8"
      },
      "source": [
        "%%writefile dp1.pml\n",
        "#define wait(s) atomic{s>0->s--}\n",
        "#define signal(s) s++\n",
        "\n",
        "byte forks[5]={1,1,1,1,1}\n",
        "\n",
        "active[5] proctype P(){\n",
        "    do \n",
        "    ::\n",
        "      //think\n",
        "      wait(forks[_pid])\n",
        "      wait(forks[(_pid+1)%5])\n",
        "      //eat\n",
        "      signal(forks[_pid])\n",
        "      signal(forks[(_pid+1)%5])\n",
        "    od\n",
        "}"
      ],
      "execution_count": null,
      "outputs": [
        {
          "output_type": "stream",
          "text": [
            "Overwriting dp1.pml\n"
          ],
          "name": "stdout"
        }
      ]
    },
    {
      "cell_type": "code",
      "metadata": {
        "id": "6dAZeYjAStpQ",
        "colab": {
          "base_uri": "https://localhost:8080/",
          "height": 527
        },
        "outputId": "877e47aa-d5be-467c-8041-a7ba01bbee3d"
      },
      "source": [
        "!spin -run dp1.pml"
      ],
      "execution_count": null,
      "outputs": [
        {
          "output_type": "stream",
          "text": [
            "pan:1: invalid end state (at depth 56)\n",
            "pan: wrote dp1.pml.trail\n",
            "\n",
            "(Spin Version 6.4.6 -- 2 December 2016)\n",
            "Warning: Search not completed\n",
            "\t+ Partial Order Reduction\n",
            "\n",
            "Full statespace search for:\n",
            "\tnever claim         \t- (none specified)\n",
            "\tassertion violations\t+\n",
            "\tcycle checks       \t- (disabled by -DSAFETY)\n",
            "\tinvalid end states\t+\n",
            "\n",
            "State-vector 52 byte, depth reached 57, errors: 1\n",
            "       58 states, stored\n",
            "       16 states, matched\n",
            "       74 transitions (= stored+matched)\n",
            "        0 atomic steps\n",
            "hash conflicts:         0 (resolved)\n",
            "\n",
            "Stats on memory usage (in Megabytes):\n",
            "    0.004\tequivalent memory usage for states (stored*(State-vector + overhead))\n",
            "    0.291\tactual memory usage for states\n",
            "  128.000\tmemory used for hash table (-w24)\n",
            "    0.534\tmemory used for DFS stack (-m10000)\n",
            "  128.730\ttotal actual memory usage\n",
            "\n",
            "\n",
            "\n",
            "pan: elapsed time 0 seconds\n"
          ],
          "name": "stdout"
        }
      ]
    },
    {
      "cell_type": "code",
      "metadata": {
        "id": "N0IJr2t8SwjK",
        "colab": {
          "base_uri": "https://localhost:8080/",
          "height": 34
        },
        "outputId": "b19129d5-b6bd-402f-95ca-d81843435e65"
      },
      "source": [
        "%%writefile dp2.pml\n",
        "#define wait(s) atomic{s>0->s--}\n",
        "#define signal(s) s++\n",
        "\n",
        "byte forks[5]={1,1,1,1,1}\n",
        "int room=4\n",
        "\n",
        "active[5] proctype P(){\n",
        "    do \n",
        "    ::\n",
        "      //think\n",
        "      wait(room)\n",
        "      wait(forks[_pid])\n",
        "      wait(forks[(_pid+1)%5])\n",
        "      //eat\n",
        "      signal(forks[_pid])\n",
        "      signal(forks[(_pid+1)%5])\n",
        "      signal(room)\n",
        "    od\n",
        "}"
      ],
      "execution_count": null,
      "outputs": [
        {
          "output_type": "stream",
          "text": [
            "Overwriting dp2.pml\n"
          ],
          "name": "stdout"
        }
      ]
    },
    {
      "cell_type": "code",
      "metadata": {
        "id": "WSRS30SpVdRf",
        "colab": {
          "base_uri": "https://localhost:8080/",
          "height": 527
        },
        "outputId": "6a4f59ed-35ab-43a0-c2ac-d52f7f42d183"
      },
      "source": [
        "!spin -run dp2.pml"
      ],
      "execution_count": null,
      "outputs": [
        {
          "output_type": "stream",
          "text": [
            "\n",
            "(Spin Version 6.4.6 -- 2 December 2016)\n",
            "\t+ Partial Order Reduction\n",
            "\n",
            "Full statespace search for:\n",
            "\tnever claim         \t- (none specified)\n",
            "\tassertion violations\t+\n",
            "\tcycle checks       \t- (disabled by -DSAFETY)\n",
            "\tinvalid end states\t+\n",
            "\n",
            "State-vector 52 byte, depth reached 2305, errors: 0\n",
            "     3111 states, stored\n",
            "     9280 states, matched\n",
            "    12391 transitions (= stored+matched)\n",
            "        0 atomic steps\n",
            "hash conflicts:         0 (resolved)\n",
            "\n",
            "Stats on memory usage (in Megabytes):\n",
            "    0.237\tequivalent memory usage for states (stored*(State-vector + overhead))\n",
            "    0.389\tactual memory usage for states\n",
            "  128.000\tmemory used for hash table (-w24)\n",
            "    0.534\tmemory used for DFS stack (-m10000)\n",
            "  128.827\ttotal actual memory usage\n",
            "\n",
            "\n",
            "unreached in proctype P\n",
            "\tdp2.pml:19, state 16, \"-end-\"\n",
            "\t(1 of 16 states)\n",
            "\n",
            "pan: elapsed time 0 seconds\n"
          ],
          "name": "stdout"
        }
      ]
    },
    {
      "cell_type": "code",
      "metadata": {
        "id": "WLGsJCWwVhY1",
        "colab": {
          "base_uri": "https://localhost:8080/",
          "height": 34
        },
        "outputId": "df4aaa57-fc1f-49db-96ce-4c89f0f5320d"
      },
      "source": [
        "%%writefile problema1.pml\n",
        "\n",
        "#define waitW(w,r) atomic{w>0 -> r>0 -> w--}\n",
        "#define waitR(w,r) atomic{w>0 -> r--}\n",
        "#define signal(s) {s++}\n",
        "\n",
        "byte writterOnRoom = 1\n",
        "byte readersOnRoom = 1\n",
        "\n",
        "active[5] proctype W(){\n",
        "    waitW(writterOnRoom, readersOnRoom)\n",
        "    printf(\"in writter: %d -- %d -- %d\\n\", _pid, writterOnRoom, readersOnRoom)\n",
        "    //crit\n",
        "    signal(writterOnRoom)\n",
        "    printf(\"out writter: %d\\n\", _pid)\n",
        "}\n",
        "\n",
        "active[5] proctype R(){\n",
        "   waitR(writterOnRoom, readersOnRoom)\n",
        "   printf(\"\\t in reader: %d -- %d -- %d\\n\", _pid, writterOnRoom, readersOnRoom)\n",
        "   //crit\n",
        "   signal(readersOnRoom)\n",
        "   printf(\"\\t out reader: %d\\n\", _pid)\n",
        "}"
      ],
      "execution_count": null,
      "outputs": [
        {
          "output_type": "stream",
          "text": [
            "Overwriting problema1.pml\n"
          ],
          "name": "stdout"
        }
      ]
    },
    {
      "cell_type": "code",
      "metadata": {
        "id": "OxLWSjuzdfOn",
        "colab": {
          "base_uri": "https://localhost:8080/",
          "height": 544
        },
        "outputId": "4ab7c515-ed44-4d05-d7d3-426e0913211a"
      },
      "source": [
        "!spin problema1.pml"
      ],
      "execution_count": null,
      "outputs": [
        {
          "output_type": "stream",
          "text": [
            "spin: problema1.pml:18, Error: value (-1->255 (8)) truncated in assignment\n",
            "                                  \t in reader: 7 -- 0 -- 254\n",
            "                          \t in reader: 5 -- 0 -- 254\n",
            "      in writter: 0 -- 0 -- 254\n",
            "                                          \t in reader: 9 -- 0 -- 255\n",
            "                          \t out reader: 5\n",
            "spin: problema1.pml:21, Error: value (256->0 (8)) truncated in assignment\n",
            "                                          \t out reader: 9\n",
            "      out writter: 0\n",
            "spin: problema1.pml:18, Error: value (-1->255 (8)) truncated in assignment\n",
            "          in writter: 1 -- 0 -- 255\n",
            "spin: problema1.pml:10, Error: value (-1->255 (8)) truncated in assignment\n",
            "spin: problema1.pml:13, Error: value (256->0 (8)) truncated in assignment\n",
            "          out writter: 1\n",
            "spin: problema1.pml:21, Error: value (256->0 (8)) truncated in assignment\n",
            "                                      \t in reader: 8 -- 0 -- 0\n",
            "                                  \t out reader: 7\n",
            "                                      \t out reader: 8\n",
            "spin: problema1.pml:10, Error: value (-1->255 (8)) truncated in assignment\n",
            "                      in writter: 4 -- 255 -- 1\n",
            "spin: problema1.pml:13, Error: value (256->0 (8)) truncated in assignment\n",
            "              in writter: 2 -- 0 -- 1\n",
            "spin: problema1.pml:10, Error: value (-1->255 (8)) truncated in assignment\n",
            "                      out writter: 4\n",
            "                              \t in reader: 6 -- 255 -- 0\n",
            "spin: problema1.pml:13, Error: value (256->0 (8)) truncated in assignment\n",
            "                  in writter: 3 -- 0 -- 0\n",
            "              out writter: 2\n",
            "                              \t out reader: 6\n",
            "                  out writter: 3\n",
            "10 processes created\n"
          ],
          "name": "stdout"
        }
      ]
    },
    {
      "cell_type": "code",
      "metadata": {
        "id": "UZTp6QyCeCfu"
      },
      "source": [
        "%%writefile smokers.pml\n",
        "\n",
        "active agent"
      ],
      "execution_count": null,
      "outputs": []
    }
  ]
}