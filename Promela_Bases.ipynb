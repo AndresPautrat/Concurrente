{
  "nbformat": 4,
  "nbformat_minor": 0,
  "metadata": {
    "colab": {
      "name": "Promela_Spin_Verificacion.ipynb",
      "provenance": [],
      "authorship_tag": "ABX9TyNJRPGdNZL8IvqwEmgj3vl+",
      "include_colab_link": true
    },
    "kernelspec": {
      "name": "python3",
      "display_name": "Python 3"
    }
  },
  "cells": [
    {
      "cell_type": "markdown",
      "metadata": {
        "id": "view-in-github",
        "colab_type": "text"
      },
      "source": [
        "<a href=\"https://colab.research.google.com/github/AndresPautrat/Concurrente/blob/main/Promela_Bases.ipynb\" target=\"_parent\"><img src=\"https://colab.research.google.com/assets/colab-badge.svg\" alt=\"Open In Colab\"/></a>"
      ]
    },
    {
      "cell_type": "code",
      "metadata": {
        "id": "0lClHQVELiPr",
        "colab": {
          "base_uri": "https://localhost:8080/",
          "height": 204
        },
        "outputId": "bfaab322-7597-4a3c-bc21-d8cc7365bae5"
      },
      "source": [
        "%%script bash\n",
        "git clone https://github.com/nimble-code/Spin.git\n",
        "ls -l Spin\n",
        "#no funciona por ahora"
      ],
      "execution_count": null,
      "outputs": [
        {
          "output_type": "stream",
          "text": [
            "total 36\n",
            "drwxr-xr-x 2 root root 4096 Sep 11 12:45 Bin\n",
            "drwxr-xr-x 2 root root 4096 Sep 11 12:45 Doc\n",
            "drwxr-xr-x 5 root root 4096 Sep 11 12:45 Examples\n",
            "-rw-r--r-- 1 root root 1669 Sep 11 12:45 LICENSE\n",
            "-rw-r--r-- 1 root root   79 Sep 11 12:45 makefile\n",
            "drwxr-xr-x 2 root root 4096 Sep 11 12:45 Man\n",
            "drwxr-xr-x 2 root root 4096 Sep 11 12:45 optional_gui\n",
            "-rw-r--r-- 1 root root 1522 Sep 11 12:45 README.md\n",
            "drwxr-xr-x 2 root root 4096 Sep 11 12:45 Src\n"
          ],
          "name": "stdout"
        },
        {
          "output_type": "stream",
          "text": [
            "Cloning into 'Spin'...\n"
          ],
          "name": "stderr"
        }
      ]
    },
    {
      "cell_type": "code",
      "metadata": {
        "id": "nIuGI26TNJLP",
        "colab": {
          "base_uri": "https://localhost:8080/",
          "height": 340
        },
        "outputId": "81c9cb77-7c10-4997-e1bb-0250be2ab70d"
      },
      "source": [
        "!apt install spin"
      ],
      "execution_count": null,
      "outputs": [
        {
          "output_type": "stream",
          "text": [
            "Reading package lists... Done\n",
            "Building dependency tree       \n",
            "Reading state information... Done\n",
            "The following package was automatically installed and is no longer required:\n",
            "  libnvidia-common-440\n",
            "Use 'apt autoremove' to remove it.\n",
            "The following NEW packages will be installed:\n",
            "  spin\n",
            "0 upgraded, 1 newly installed, 0 to remove and 39 not upgraded.\n",
            "Need to get 559 kB of archives.\n",
            "After this operation, 1,776 kB of additional disk space will be used.\n",
            "Get:1 http://archive.ubuntu.com/ubuntu bionic/universe amd64 spin amd64 6.4.6+dfsg-2 [559 kB]\n",
            "Fetched 559 kB in 1s (433 kB/s)\n",
            "Selecting previously unselected package spin.\n",
            "(Reading database ... 144579 files and directories currently installed.)\n",
            "Preparing to unpack .../spin_6.4.6+dfsg-2_amd64.deb ...\n",
            "Unpacking spin (6.4.6+dfsg-2) ...\n",
            "Setting up spin (6.4.6+dfsg-2) ...\n",
            "Processing triggers for man-db (2.8.3-2ubuntu0.1) ...\n"
          ],
          "name": "stdout"
        }
      ]
    },
    {
      "cell_type": "code",
      "metadata": {
        "id": "2YJJn6t8PT7D"
      },
      "source": [
        "%%script bash\n",
        "#curl -o ps-programs.zip http://www.springer.com/cda/content/document/cda_downloaddocument/ps-programs.zip?SGWID=0-0-45-1050337-p173710973\n",
        "ls\n",
        "unzip ps-programs.zip"
      ],
      "execution_count": null,
      "outputs": []
    },
    {
      "cell_type": "code",
      "metadata": {
        "id": "I76gop1sMg9L",
        "colab": {
          "base_uri": "https://localhost:8080/",
          "height": 153
        },
        "outputId": "ede750ca-c199-4b74-ba21-6975a3726d16"
      },
      "source": [
        "%%script bash\n",
        "\n",
        "cd Spin/Src\n",
        "make\n",
        "sudo make install"
      ],
      "execution_count": null,
      "outputs": [
        {
          "output_type": "stream",
          "text": [
            "yacc -v -d \t\t spin.y\n",
            "makefile:47: recipe for target 'spin.o' failed\n",
            "yacc -v -d \t\t spin.y\n",
            "makefile:47: recipe for target 'spin.o' failed\n"
          ],
          "name": "stdout"
        },
        {
          "output_type": "stream",
          "text": [
            "make: yacc: Command not found\n",
            "make: *** [spin.o] Error 127\n",
            "make: yacc: Command not found\n",
            "make: *** [spin.o] Error 127\n"
          ],
          "name": "stderr"
        }
      ]
    },
    {
      "cell_type": "code",
      "metadata": {
        "id": "7BWWfh8nM3GC",
        "colab": {
          "base_uri": "https://localhost:8080/",
          "height": 34
        },
        "outputId": "67464d07-999b-4461-ee80-0d83e556a170"
      },
      "source": [
        "%%writefile hola.pml\n",
        "active[5] proctype P(){\n",
        "    printf(\"%d hola mundo\\n\",_pid)\n",
        "}\n"
      ],
      "execution_count": null,
      "outputs": [
        {
          "output_type": "stream",
          "text": [
            "Overwriting hola.pml\n"
          ],
          "name": "stdout"
        }
      ]
    },
    {
      "cell_type": "code",
      "metadata": {
        "id": "Gbnt1s_mOA25",
        "colab": {
          "base_uri": "https://localhost:8080/",
          "height": 119
        },
        "outputId": "dbddf840-26e6-40ff-d529-a900fab3a7fa"
      },
      "source": [
        "!spin hola.pml"
      ],
      "execution_count": null,
      "outputs": [
        {
          "output_type": "stream",
          "text": [
            "          1 hola mundo\n",
            "              2 hola mundo\n",
            "      0 hola mundo\n",
            "                      4 hola mundo\n",
            "                  3 hola mundo\n",
            "5 processes created\n"
          ],
          "name": "stdout"
        }
      ]
    },
    {
      "cell_type": "code",
      "metadata": {
        "id": "dRIVLkl9Qx5g",
        "colab": {
          "base_uri": "https://localhost:8080/",
          "height": 34
        },
        "outputId": "362add53-30b0-4210-8a9e-15b38c4eb9c9"
      },
      "source": [
        "%%writefile mtype.pml\n",
        "mtype={red,green,yellow}\n",
        "\n",
        "mtype light=green\n",
        "\n",
        "active proctype P(){\n",
        "    byte i=0\n",
        "    do\n",
        "    ::i<10->\n",
        "        i++\n",
        "        if\n",
        "        ::  light==red->\n",
        "              light=green\n",
        "        ::  light==green->\n",
        "              light=yellow\n",
        "        ::  light==yellow->light=red\n",
        "        fi\n",
        "        printf(\"%e\\n\",light)\n",
        "    :: else->break\n",
        "    od\n",
        "}"
      ],
      "execution_count": null,
      "outputs": [
        {
          "output_type": "stream",
          "text": [
            "Writing mtype.pml\n"
          ],
          "name": "stdout"
        }
      ]
    },
    {
      "cell_type": "code",
      "metadata": {
        "id": "8_nDokIHSkF-",
        "colab": {
          "base_uri": "https://localhost:8080/",
          "height": 204
        },
        "outputId": "8d3b8c45-413c-4bc4-a87d-6469131d370f"
      },
      "source": [
        "!spin mtype.pml"
      ],
      "execution_count": null,
      "outputs": [
        {
          "output_type": "stream",
          "text": [
            "      yellow\n",
            "      red\n",
            "      green\n",
            "      yellow\n",
            "      red\n",
            "      green\n",
            "      yellow\n",
            "      red\n",
            "      green\n",
            "      yellow\n",
            "1 process created\n"
          ],
          "name": "stdout"
        }
      ]
    },
    {
      "cell_type": "code",
      "metadata": {
        "id": "QmfVSDHUSm4_",
        "colab": {
          "base_uri": "https://localhost:8080/",
          "height": 34
        },
        "outputId": "9b29aba6-f269-402b-c897-bf20d71054df"
      },
      "source": [
        "%%writefile if1.pml\n",
        "active proctype P(){\n",
        "    int a=5,b=5;\n",
        "    int max;\n",
        "    int branch;\n",
        "    if\n",
        "    ::a>=b->max=a;branch=1; printf(\"A es mayor\")\n",
        "    ::b>=a->max=b;branch=2; printf(\"B es mayor\")\n",
        "    fi\n",
        "    printf(\"Maximo de %d y %d es %d, branch %d\\n\",a,b,max,branch)\n",
        "}"
      ],
      "execution_count": null,
      "outputs": [
        {
          "output_type": "stream",
          "text": [
            "Overwriting if1.pml\n"
          ],
          "name": "stdout"
        }
      ]
    },
    {
      "cell_type": "code",
      "metadata": {
        "id": "fMYsT4qbTONE",
        "colab": {
          "base_uri": "https://localhost:8080/",
          "height": 51
        },
        "outputId": "50290c17-bf70-4728-8e8f-a7c1a6f12f66"
      },
      "source": [
        "!spin if1.pml"
      ],
      "execution_count": null,
      "outputs": [
        {
          "output_type": "stream",
          "text": [
            "      A es mayor      Maximo de 5 y 5 es 5, branch 1\n",
            "1 process created\n"
          ],
          "name": "stdout"
        }
      ]
    },
    {
      "cell_type": "code",
      "metadata": {
        "id": "qPZMeC1qTQVr",
        "colab": {
          "base_uri": "https://localhost:8080/",
          "height": 34
        },
        "outputId": "eb208cd7-35e8-44d5-b7ec-270f0b385576"
      },
      "source": [
        "%%writefile for.pml\n",
        "active proctype P(){\n",
        "    int i;\n",
        "    for(i:1..10){\n",
        "        printf(\"%d\",i)\n",
        "    }\n",
        "    printf(\"\\n\")\n",
        "}"
      ],
      "execution_count": null,
      "outputs": [
        {
          "output_type": "stream",
          "text": [
            "Writing for.pml\n"
          ],
          "name": "stdout"
        }
      ]
    },
    {
      "cell_type": "code",
      "metadata": {
        "id": "3GVPlnxaUbxZ",
        "colab": {
          "base_uri": "https://localhost:8080/",
          "height": 51
        },
        "outputId": "44fe6d0b-d4c2-46f5-d028-819db0400148"
      },
      "source": [
        "!spin for.pml"
      ],
      "execution_count": null,
      "outputs": [
        {
          "output_type": "stream",
          "text": [
            "      1      2      3      4      5      6      7      8      9      10      \n",
            "1 process created\n"
          ],
          "name": "stdout"
        }
      ]
    },
    {
      "cell_type": "code",
      "metadata": {
        "id": "ygHd8pi-UeQN",
        "colab": {
          "base_uri": "https://localhost:8080/",
          "height": 34
        },
        "outputId": "d4862eee-0308-42d7-b45f-e841065faeca"
      },
      "source": [
        "%%writefile counter.pml\n",
        "byte n=0\n",
        "proctype P(){\n",
        "    byte temp,i\n",
        "    for(i:1..10){\n",
        "        temp=n\n",
        "        n=temp+1\n",
        "    }\n",
        "}\n",
        "init{\n",
        "    atomic{\n",
        "        run P();\n",
        "        run P();\n",
        "    }\n",
        "    (_nr_pr==1)->printf(\"n=%d\\n\",n)\n",
        "    assert(n>20)\n",
        "}"
      ],
      "execution_count": null,
      "outputs": [
        {
          "output_type": "stream",
          "text": [
            "Overwriting counter.pml\n"
          ],
          "name": "stdout"
        }
      ]
    },
    {
      "cell_type": "code",
      "metadata": {
        "id": "fZ0vq-KfbjAC"
      },
      "source": [
        "!spin counter.pml"
      ],
      "execution_count": null,
      "outputs": []
    },
    {
      "cell_type": "code",
      "metadata": {
        "id": "KWi589jqVf3f"
      },
      "source": [
        "%%script bash\n",
        "spin -a counter.pml #crear un verificador en c\n",
        "gcc pan.c           #los archivos pan son parte del verificador\n",
        "./a.out             #ejecuta el verificador "
      ],
      "execution_count": null,
      "outputs": []
    },
    {
      "cell_type": "code",
      "metadata": {
        "id": "Kv7i-2blViwe"
      },
      "source": [
        "ls -l"
      ],
      "execution_count": null,
      "outputs": []
    },
    {
      "cell_type": "code",
      "metadata": {
        "id": "w_Wts1dWXpvO"
      },
      "source": [
        "!spin -t counter.pml"
      ],
      "execution_count": null,
      "outputs": []
    },
    {
      "cell_type": "code",
      "metadata": {
        "id": "CqzrGFQIXt30",
        "colab": {
          "base_uri": "https://localhost:8080/",
          "height": 34
        },
        "outputId": "7571adb0-9abc-4d31-ceb9-f187c9b17f82"
      },
      "source": [
        "%%writefile prueba1.pml\n",
        "byte n=1\n",
        "proctype P(){\n",
        "    byte temp\n",
        "    byte i=0\n",
        "    for(i:0..10){\n",
        "        temp=n\n",
        "        n=temp+1\n",
        "    }\n",
        "\n",
        "    printf(\"Number: %d\\n\",n)\n",
        "}\n",
        "\n",
        "init{\n",
        "  atomic{\n",
        "      run P();\n",
        "      run P();\n",
        "  }\n",
        "  (_nr_pr==3)->printf(\"Number: %d\\n\",n)\n",
        "}"
      ],
      "execution_count": null,
      "outputs": [
        {
          "output_type": "stream",
          "text": [
            "Overwriting prueba1.pml\n"
          ],
          "name": "stdout"
        }
      ]
    },
    {
      "cell_type": "code",
      "metadata": {
        "id": "ixBOLFuLaEcO",
        "colab": {
          "base_uri": "https://localhost:8080/",
          "height": 85
        },
        "outputId": "c0453d71-f8a1-46dd-ae48-7dc4d4b6c286"
      },
      "source": [
        "!spin prueba1.pml"
      ],
      "execution_count": null,
      "outputs": [
        {
          "output_type": "stream",
          "text": [
            "      Number: 1\n",
            "          Number: 18\n",
            "              Number: 19\n",
            "3 processes created\n"
          ],
          "name": "stdout"
        }
      ]
    },
    {
      "cell_type": "code",
      "metadata": {
        "id": "SuEvMVaFaIaR",
        "colab": {
          "base_uri": "https://localhost:8080/",
          "height": 578
        },
        "outputId": "ee2ed162-1c90-4cf0-bf17-7052d3544257"
      },
      "source": [
        "%%script bash\n",
        "spin -a prueba1.pml #crear un verificador en c\n",
        "gcc pan.c           #los archivos pan son parte del verificador\n",
        "./a.out             #ejecuta el verificador "
      ],
      "execution_count": null,
      "outputs": [
        {
          "output_type": "stream",
          "text": [
            "\n",
            "(Spin Version 6.4.6 -- 2 December 2016)\n",
            "\t+ Partial Order Reduction\n",
            "\n",
            "Full statespace search for:\n",
            "\tnever claim         \t- (none specified)\n",
            "\tassertion violations\t+\n",
            "\tacceptance   cycles \t- (not selected)\n",
            "\tinvalid end states\t+\n",
            "\n",
            "State-vector 52 byte, depth reached 98, errors: 0\n",
            "   288128 states, stored\n",
            "   176747 states, matched\n",
            "   464875 transitions (= stored+matched)\n",
            "        1 atomic steps\n",
            "hash conflicts:      1125 (resolved)\n",
            "\n",
            "Stats on memory usage (in Megabytes):\n",
            "   21.982\tequivalent memory usage for states (stored*(State-vector + overhead))\n",
            "   15.529\tactual memory usage for states (compression: 70.64%)\n",
            "         \tstate-vector as stored = 29 byte + 28 byte overhead\n",
            "  128.000\tmemory used for hash table (-w24)\n",
            "    0.534\tmemory used for DFS stack (-m10000)\n",
            "  143.964\ttotal actual memory usage\n",
            "\n",
            "\n",
            "unreached in proctype P\n",
            "\t(0 of 11 states)\n",
            "unreached in init\n",
            "\t(0 of 5 states)\n",
            "\n",
            "pan: elapsed time 0.26 seconds\n",
            "pan: rate 1108184.6 states/second\n"
          ],
          "name": "stdout"
        }
      ]
    },
    {
      "cell_type": "code",
      "metadata": {
        "id": "pyXv6t4na_Fk",
        "colab": {
          "base_uri": "https://localhost:8080/",
          "height": 34
        },
        "outputId": "4d89d373-cc8b-45d8-900d-0e860daf222a"
      },
      "source": [
        "%%writefile prueba2.pml\n",
        "bool wantp=false\n",
        "bool wantq=false\n",
        "int count\n",
        "active proctype P(){\n",
        "    do\n",
        "    :: wantq==false->\n",
        "        wantp=true\n",
        "        count++\n",
        "        assert(count<2)\n",
        "        count--\n",
        "        wantp=false\n",
        "    od\n",
        "}\n",
        "active proctype Q(){\n",
        "    do\n",
        "    :: wantp==false->\n",
        "        wantq=true\n",
        "        count++\n",
        "        assert(count<2)\n",
        "        count--\n",
        "        wantq=false\n",
        "    od\n",
        "}"
      ],
      "execution_count": null,
      "outputs": [
        {
          "output_type": "stream",
          "text": [
            "Overwriting prueba2.pml\n"
          ],
          "name": "stdout"
        }
      ]
    },
    {
      "cell_type": "code",
      "metadata": {
        "id": "XAvVnmhxhzOl",
        "colab": {
          "base_uri": "https://localhost:8080/",
          "height": 527
        },
        "outputId": "0354fa8e-2d4c-44e6-d539-d4c11fd1e2cf"
      },
      "source": [
        "!spin -run prueba2.pml"
      ],
      "execution_count": null,
      "outputs": [
        {
          "output_type": "stream",
          "text": [
            "pan:1: assertion violated (count<2) (at depth 7)\n",
            "pan: wrote prueba2.pml.trail\n",
            "\n",
            "(Spin Version 6.4.6 -- 2 December 2016)\n",
            "Warning: Search not completed\n",
            "\t+ Partial Order Reduction\n",
            "\n",
            "Full statespace search for:\n",
            "\tnever claim         \t- (none specified)\n",
            "\tassertion violations\t+\n",
            "\tcycle checks       \t- (disabled by -DSAFETY)\n",
            "\tinvalid end states\t+\n",
            "\n",
            "State-vector 28 byte, depth reached 11, errors: 1\n",
            "       22 states, stored\n",
            "       10 states, matched\n",
            "       32 transitions (= stored+matched)\n",
            "        0 atomic steps\n",
            "hash conflicts:         0 (resolved)\n",
            "\n",
            "Stats on memory usage (in Megabytes):\n",
            "    0.001\tequivalent memory usage for states (stored*(State-vector + overhead))\n",
            "    0.291\tactual memory usage for states\n",
            "  128.000\tmemory used for hash table (-w24)\n",
            "    0.534\tmemory used for DFS stack (-m10000)\n",
            "  128.730\ttotal actual memory usage\n",
            "\n",
            "\n",
            "\n",
            "pan: elapsed time 0 seconds\n"
          ],
          "name": "stdout"
        }
      ]
    },
    {
      "cell_type": "code",
      "metadata": {
        "id": "kysHv8fch2RQ",
        "colab": {
          "base_uri": "https://localhost:8080/",
          "height": 34
        },
        "outputId": "b1763dc7-6c42-449e-bb6b-f95ad6185f7c"
      },
      "source": [
        "%%writefile prueba2.pml\n",
        "bool wantp=false\n",
        "bool wantq=false\n",
        "int count\n",
        "active proctype P(){\n",
        "    do\n",
        "    :: wantq==false->\n",
        "        wantp=true\n",
        "        !wantq->\n",
        "        wantp=false\n",
        "    od\n",
        "}\n",
        "active proctype Q(){\n",
        "    do\n",
        "    :: wantp==false->\n",
        "        wantq=true\n",
        "        !wantp->\n",
        "        wantq=false\n",
        "    od\n",
        "}\n",
        "active proctype Z(){\n",
        "    do\n",
        "    :: count++\n",
        "    od\n",
        "}"
      ],
      "execution_count": null,
      "outputs": [
        {
          "output_type": "stream",
          "text": [
            "Overwriting prueba2.pml\n"
          ],
          "name": "stdout"
        }
      ]
    },
    {
      "cell_type": "code",
      "metadata": {
        "id": "tFc5wk_GlUAL",
        "colab": {
          "base_uri": "https://localhost:8080/",
          "height": 629
        },
        "outputId": "98053c6d-4c01-4a30-9312-64897d6c728b"
      },
      "source": [
        "!spin -run prueba2.pml"
      ],
      "execution_count": null,
      "outputs": [
        {
          "output_type": "stream",
          "text": [
            "\n",
            "(Spin Version 6.4.6 -- 2 December 2016)\n",
            "\t+ Partial Order Reduction\n",
            "\n",
            "Full statespace search for:\n",
            "\tnever claim         \t- (none specified)\n",
            "\tassertion violations\t+\n",
            "\tcycle checks       \t- (disabled by -DSAFETY)\n",
            "\tinvalid end states\t+\n",
            "\n",
            "State-vector 28 byte, depth reached 7, errors: 0\n",
            "       15 states, stored\n",
            "       23 states, matched\n",
            "       38 transitions (= stored+matched)\n",
            "        0 atomic steps\n",
            "hash conflicts:         0 (resolved)\n",
            "\n",
            "Stats on memory usage (in Megabytes):\n",
            "    0.001\tequivalent memory usage for states (stored*(State-vector + overhead))\n",
            "    0.291\tactual memory usage for states\n",
            "  128.000\tmemory used for hash table (-w24)\n",
            "    0.534\tmemory used for DFS stack (-m10000)\n",
            "  128.730\ttotal actual memory usage\n",
            "\n",
            "\n",
            "unreached in proctype P\n",
            "\tprueba2.pml:11, state 8, \"-end-\"\n",
            "\t(1 of 8 states)\n",
            "unreached in proctype Q\n",
            "\tprueba2.pml:19, state 8, \"-end-\"\n",
            "\t(1 of 8 states)\n",
            "unreached in proctype Z\n",
            "\tprueba2.pml:24, state 5, \"-end-\"\n",
            "\t(1 of 5 states)\n",
            "\n",
            "pan: elapsed time 0 seconds\n"
          ],
          "name": "stdout"
        }
      ]
    },
    {
      "cell_type": "code",
      "metadata": {
        "id": "eu-ZiQybleb1"
      },
      "source": [
        ""
      ],
      "execution_count": null,
      "outputs": []
    }
  ]
}