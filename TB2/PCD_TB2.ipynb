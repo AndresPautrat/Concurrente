{
  "nbformat": 4,
  "nbformat_minor": 0,
  "metadata": {
    "colab": {
      "name": "PCD_TB2.ipynb",
      "provenance": [],
      "collapsed_sections": [],
      "authorship_tag": "ABX9TyNasH4g/9naCqPvUvHqd06O",
      "include_colab_link": true
    },
    "kernelspec": {
      "name": "python3",
      "display_name": "Python 3"
    }
  },
  "cells": [
    {
      "cell_type": "markdown",
      "metadata": {
        "id": "view-in-github",
        "colab_type": "text"
      },
      "source": [
        "<a href=\"https://colab.research.google.com/github/AndresPautrat/Concurrente/blob/main/TB2/PCD_TB2.ipynb\" target=\"_parent\"><img src=\"https://colab.research.google.com/assets/colab-badge.svg\" alt=\"Open In Colab\"/></a>"
      ]
    },
    {
      "cell_type": "markdown",
      "metadata": {
        "id": "YO7NUXQmp-sd"
      },
      "source": [
        "#Collab: https://colab.research.google.com/drive/1bYuI2OAWKyAauglFO6xKjOllN3ttSlHy?usp=sharing\n",
        "\n",
        "#GitHub: https://github.com/AndresPautrat/Concurrente/tree/main/TB2"
      ]
    },
    {
      "cell_type": "markdown",
      "metadata": {
        "id": "yRgOC4nXcH4A"
      },
      "source": [
        "#Version recien de go en collab\n",
        "!sudo add-apt-repository ppa:longsleep/golang-backports\n",
        "!sudo apt update\n",
        "!sudo apt install golang-go\n",
        "!go version\n",
        "#Posibles librerias\n",
        "!go get github.com/go-gota/gota/dataframe\n",
        "!go get github.com/go-gota/gota/series\n",
        "!go get github.com/go-gota/gota\n",
        "!go get github.com/tobgu/qframe"
      ]
    },
    {
      "cell_type": "markdown",
      "metadata": {
        "id": "jQ74vBBj2EgI"
      },
      "source": [
        "#Iris\n",
        "I use the dataset iris that contains informacion about 3 different iris plants, it have sepal length, sepal width, petal length, petal width and class (Iris Setosa, Iris Versicolour, Iris Virginica) of each plant. I used it because its popular and works weell.*italicized text*"
      ]
    },
    {
      "cell_type": "code",
      "metadata": {
        "id": "Ufwq-Ggaiqsn"
      },
      "source": [
        "repo='https://raw.githubusercontent.com/AndresPautrat/Concurrente/main/TB2/'\n",
        "url='%s%s'%(repo, 'iris.data')"
      ],
      "execution_count": 21,
      "outputs": []
    },
    {
      "cell_type": "code",
      "metadata": {
        "id": "tTHWJABShkNC",
        "outputId": "f16bd528-73d5-47e9-c843-94d97ec4efce",
        "colab": {
          "base_uri": "https://localhost:8080/"
        }
      },
      "source": [
        "!curl -O $url"
      ],
      "execution_count": 22,
      "outputs": [
        {
          "output_type": "stream",
          "text": [
            "  % Total    % Received % Xferd  Average Speed   Time    Time     Time  Current\n",
            "                                 Dload  Upload   Total   Spent    Left  Speed\n",
            "\r  0     0    0     0    0     0      0      0 --:--:-- --:--:-- --:--:--     0\r100  4551  100  4551    0     0  30543      0 --:--:-- --:--:-- --:--:-- 30543\n"
          ],
          "name": "stdout"
        }
      ]
    },
    {
      "cell_type": "code",
      "metadata": {
        "id": "0cc2qa2oaSBD"
      },
      "source": [
        "!apt install golang"
      ],
      "execution_count": null,
      "outputs": []
    },
    {
      "cell_type": "markdown",
      "metadata": {
        "id": "tOV14kkxutFT"
      },
      "source": [
        "#Perceptron\n",
        "I have decide to use a simple perceptron that can predict if a some values are Iris-setosa in this case. The perceptron calculates differents weights for the received variables and a correction for the error. In this case i make it concurrent by separating the original dataset in subsets and train with each one separated, wait each process to finish and join them."
      ]
    },
    {
      "cell_type": "code",
      "metadata": {
        "id": "jL8n8FFsb7k0",
        "outputId": "70fb2152-9a3b-4a50-d293-aa4fb61a614d",
        "colab": {
          "base_uri": "https://localhost:8080/"
        }
      },
      "source": [
        "%%writefile 1.go\n",
        "package main\n",
        "\n",
        "import (\n",
        "\t\"encoding/csv\"\n",
        "\t\"fmt\"\n",
        "\t\"log\"\n",
        "\t\"math/rand\"\n",
        "\t\"os\"\n",
        "\t\"strconv\"\n",
        "\t\"time\"\n",
        ")\n",
        "\n",
        "type Perceptron struct {\n",
        "\teta     float64\n",
        "\tn_inter int\n",
        "\tw       []float64\n",
        "\terrors  []int\n",
        "}\n",
        "\n",
        "func (p *Perceptron) ConcurrentForPerceptron(subX [][]float64, subY []int, c chan []float64) {\n",
        "\tauxW := make([]float64, len(subX[0])+1)\n",
        "\tfor i := 0; i < p.n_inter; i++ {\n",
        "\t\terrors := 0\n",
        "\t\tfor j := 0; j < len(subX); j++ {\n",
        "\t\t\tupdate := p.eta * float64(subY[j]-p.internalPredict(subX[j], auxW))\n",
        "\t\t\tauxW[0] += update\n",
        "\t\t\tfor k := 1; k < len(auxW); k++ {\n",
        "\t\t\t\tauxW[k] += update * subX[j][k-1]\n",
        "\t\t\t}\n",
        "\t\t\tif update != 0.0 {\n",
        "\t\t\t\terrors += 1\n",
        "\t\t\t}\n",
        "\t\t}\n",
        "\n",
        "\t\tp.errors = append(p.errors, errors)\n",
        "\t}\n",
        "\tc <- auxW\n",
        "}\n",
        "\n",
        "//Split the data, in litle subsets\n",
        "func (p *Perceptron) Fit(X [][]float64, y []int, nThreads int) {\n",
        "\tauxW := make([]float64, len(X[0])+1)\n",
        "\tp.w = append(p.w, auxW...)\n",
        "\tsubSetLen := int(len(X) / nThreads)\n",
        "\tchans := make([]chan []float64, nThreads)\n",
        "\tfor i := range chans {\n",
        "\t\tchans[i] = make(chan []float64)\n",
        "\t}\n",
        "\tfor i := 0; i < nThreads; i++ {\n",
        "\t\tgo p.ConcurrentForPerceptron(X[i*subSetLen:(i+1)*subSetLen], y[i*subSetLen:(i+1)*subSetLen], chans[i])\n",
        "\t}\n",
        "\tfor i := 0; i < nThreads; i++ {\n",
        "\t\tsubWeights := <-chans[i]\n",
        "\t\tfor j, newW := range subWeights {\n",
        "\t\t\tp.w[j] += newW\n",
        "\t\t}\n",
        "\t}\n",
        "}\n",
        "\n",
        "//Dont split the data, split the epochs\n",
        "/*func (p *Perceptron) Fit2(X [][]float64, y []int, nThreads int) {\n",
        "\tauxW := make([]float64, len(X[0])+1)\n",
        "\tp.w = append(p.w, auxW...)\n",
        "\tp.n_inter = p.n_inter / nThreads\n",
        "\tchans := make([]chan []float64, nThreads)\n",
        "\tfor i := range chans {\n",
        "\t\tchans[i] = make(chan []float64)\n",
        "\t}\n",
        "\tfor i := 0; i < nThreads; i++ {\n",
        "\t\tgo p.ConcurrentForPerceptron(X, y, chans[i])\n",
        "\t}\n",
        "\tfor i := 0; i < nThreads; i++ {\n",
        "\t\tsubWeights := <-chans[i]\n",
        "\t\tfor j, newW := range subWeights {\n",
        "\t\t\tp.w[j] += newW\n",
        "\t\t}\n",
        "\t}\n",
        "}\n",
        "*/\n",
        "\n",
        "func (p *Perceptron) internalPredict(X []float64, w []float64) int {\n",
        "\tif p.internalNetInput(X, w) >= 0.0 {\n",
        "\t\treturn 1\n",
        "\t}\n",
        "\treturn -1\n",
        "}\n",
        "\n",
        "func (p *Perceptron) internalNetInput(X []float64, w []float64) float64 {\n",
        "\tz := 0.0\n",
        "\tfor i := 0; i < len(X); i++ {\n",
        "\t\tz += X[i] * w[i+1]\n",
        "\t}\n",
        "\tz += w[0]\n",
        "\treturn z\n",
        "}\n",
        "\n",
        "func (p *Perceptron) Predict(X []float64) int {\n",
        "\tif p.NetInput(X) >= 0.0 {\n",
        "\t\treturn 1\n",
        "\t}\n",
        "\treturn -1\n",
        "}\n",
        "\n",
        "func (p *Perceptron) NetInput(X []float64) float64 {\n",
        "\tz := 0.0\n",
        "\tfor i := 0; i < len(X); i++ {\n",
        "\t\tz += X[i] * p.w[i+1]\n",
        "\t}\n",
        "\tz += p.w[0]\n",
        "\treturn z\n",
        "}\n",
        "\n",
        "func (p *Perceptron) Accuracy(xTest [][]float64, yTest []int) float64 {\n",
        "\tcorrectPredict := 0.0\n",
        "\tfor i := 0; i < len(xTest); i++ {\n",
        "\t\t//fmt.Println(\"Predict:\", p.Predict(xTest[i]), \"\\tTrue: \", yTest[i])\n",
        "\t\tif p.Predict(xTest[i]) == yTest[i] {\n",
        "\t\t\tcorrectPredict++\n",
        "\n",
        "\t\t}\n",
        "\t}\n",
        "\treturn correctPredict / float64(len(xTest))\n",
        "}\n",
        "\n",
        "func redCSV(name string) [][]string {\n",
        "\tcsvfile, err := os.Open(name)\n",
        "\tif err != nil {\n",
        "\t\tlog.Fatal(err)\n",
        "\t}\n",
        "\tr, err := csv.NewReader(csvfile).ReadAll()\n",
        "\treturn r\n",
        "}\n",
        "\n",
        "func whatYouWantToPredict(targets []int, wanted int) []int {\n",
        "\tnewTargets := make([]int, len(targets))\n",
        "\tfor i := 0; i < len(targets); i++ {\n",
        "\t\tif targets[i] == wanted {\n",
        "\t\t\tnewTargets[i] = -1\n",
        "\t\t} else {\n",
        "\t\t\tnewTargets[i] = 1\n",
        "\t\t}\n",
        "\t}\n",
        "\treturn newTargets\n",
        "}\n",
        "\n",
        "func splitData(X [][]float64, y []int, nTraining int) ([][]float64, [][]float64, []int, []int) {\n",
        "\treturn X[0:nTraining], X[nTraining:len(X)], y[0:nTraining], y[nTraining:len(X)]\n",
        "}\n",
        "\n",
        "func fixData(r [][]string) ([][]float64, []int) {\n",
        "\trand.Seed(time.Now().UnixNano())\n",
        "\trand.Shuffle(len(r), func(i, j int) { r[i], r[j] = r[j], r[i] })\n",
        "\ttargets := []int{}\n",
        "\ttarget := len(r[0]) - 1\n",
        "\ttraining := make([][]float64, len(r))\n",
        "\n",
        "\tkeys := make(map[string]bool)\n",
        "\tlist := []string{}\n",
        "\n",
        "  count:=0\n",
        "\tfor i, entry := range r {\n",
        "\t\tif _, value := keys[entry[target]]; !value {\n",
        "      fmt.Println(entry[target],\": \", count)      \n",
        "      count++\n",
        "\t\t\tkeys[entry[target]] = true\n",
        "\t\t\tlist = append(list, entry[target])\n",
        "\t\t} \n",
        "\t\tfor number, irisType := range list {\n",
        "\t\t\tif entry[target] == irisType {\n",
        "\t\t\t\ttargets = append(targets, number)\n",
        "\t\t\t}\n",
        "\t\t}\n",
        "\t\ttrainingRow := make([]float64, target)\n",
        "\t\tfor j := 0; j < target; j++ {\n",
        "\t\t\tauxNum, _ := strconv.ParseFloat(r[i][j], 16)\n",
        "\t\t\ttrainingRow[j] = auxNum\n",
        "\t\t}\n",
        "\t\ttraining[i] = trainingRow\n",
        "\t}\n",
        "\treturn training, targets\n",
        "}\n",
        "\n",
        "func main() {\n",
        "\tr := redCSV(\"./iris.data\")\n",
        "\n",
        "\tX, y := fixData(r)\n",
        "\n",
        "\ty = whatYouWantToPredict(y, 0)\n",
        "\n",
        "\txTrain, xTest, yTrain, yTest := splitData(X, y, 100)\n",
        "\n",
        "\tneuron := Perceptron{eta: 0.1, n_inter: 50}\n",
        "\tneuron.Fit(xTrain, yTrain, 4)\n",
        "\tfmt.Println(\"Predict:\", neuron.Predict(xTest[0]), \"\\tTrue: \", yTest[0])\n",
        "\tfmt.Println(\"Accuracy: \", neuron.Accuracy(xTest, yTest))\n",
        "}"
      ],
      "execution_count": 69,
      "outputs": [
        {
          "output_type": "stream",
          "text": [
            "Overwriting 1.go\n"
          ],
          "name": "stdout"
        }
      ]
    },
    {
      "cell_type": "code",
      "metadata": {
        "id": "hI79exQ8e2kR",
        "outputId": "ea3ae819-1a8d-450f-a916-518b23bde2c4",
        "colab": {
          "base_uri": "https://localhost:8080/"
        }
      },
      "source": [
        "!go run 1.go"
      ],
      "execution_count": 70,
      "outputs": [
        {
          "output_type": "stream",
          "text": [
            "Iris-setosa :  0\n",
            "Iris-virginica :  1\n",
            "Iris-versicolor :  2\n",
            "Predict: 1 \tTrue:  1\n",
            "Accuracy:  1\n"
          ],
          "name": "stdout"
        }
      ]
    },
    {
      "cell_type": "code",
      "metadata": {
        "id": "LhwHbOi5fA8f"
      },
      "source": [
        ""
      ],
      "execution_count": null,
      "outputs": []
    }
  ]
}