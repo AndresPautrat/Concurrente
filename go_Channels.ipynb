{
  "nbformat": 4,
  "nbformat_minor": 0,
  "metadata": {
    "colab": {
      "name": "DMgo.ipynb",
      "provenance": [],
      "collapsed_sections": [],
      "authorship_tag": "ABX9TyMIQLcvuOPz+db5ftYW+Lzv",
      "include_colab_link": true
    },
    "kernelspec": {
      "name": "python3",
      "display_name": "Python 3"
    }
  },
  "cells": [
    {
      "cell_type": "markdown",
      "metadata": {
        "id": "view-in-github",
        "colab_type": "text"
      },
      "source": [
        "<a href=\"https://colab.research.google.com/github/AndresPautrat/Concurrente/blob/main/go_Channels.ipynb\" target=\"_parent\"><img src=\"https://colab.research.google.com/assets/colab-badge.svg\" alt=\"Open In Colab\"/></a>"
      ]
    },
    {
      "cell_type": "code",
      "metadata": {
        "id": "pcaSGnI4aTWb"
      },
      "source": [
        "!apt install golang"
      ],
      "execution_count": null,
      "outputs": []
    },
    {
      "cell_type": "code",
      "metadata": {
        "id": "vlAYLtk1aWYd",
        "colab": {
          "base_uri": "https://localhost:8080/",
          "height": 34
        },
        "outputId": "0f0ea1a2-bba9-4570-acea-faaaa56a912d"
      },
      "source": [
        "%%writefile 1.go\n",
        "package main\n",
        "import(\n",
        "    \"fmt\"\n",
        ")\n",
        "\n",
        "func main(){\n",
        "    var ch chan string\n",
        "    ch = make(chan string)\n",
        "\n",
        "    go func(){\n",
        "        ch<-\"Hola,Mundo canalizado!\"\n",
        "    }()\n",
        "\n",
        "    str:=<-ch\n",
        "    fmt.Printf(\"Mensaje: %s\\n\",str)\n",
        "}"
      ],
      "execution_count": null,
      "outputs": [
        {
          "output_type": "stream",
          "text": [
            "Overwriting 1.go\n"
          ],
          "name": "stdout"
        }
      ]
    },
    {
      "cell_type": "code",
      "metadata": {
        "id": "2sXiuuLncmxc",
        "colab": {
          "base_uri": "https://localhost:8080/",
          "height": 34
        },
        "outputId": "1b43d989-d382-4f08-af34-fe215555a8a8"
      },
      "source": [
        "!go run 1.go"
      ],
      "execution_count": null,
      "outputs": [
        {
          "output_type": "stream",
          "text": [
            "Mensaje: Hola,Mundo canalizado!\n"
          ],
          "name": "stdout"
        }
      ]
    },
    {
      "cell_type": "code",
      "metadata": {
        "id": "M2kfz5O-co5J",
        "colab": {
          "base_uri": "https://localhost:8080/",
          "height": 34
        },
        "outputId": "e5b9fd83-9169-4678-d4aa-fd854c8263ba"
      },
      "source": [
        "%%writefile 2.go\n",
        "package main\n",
        "import(\n",
        "    \"fmt\"\n",
        "    \"math/rand\"\n",
        "    \"time\"\n",
        ")\n",
        "\n",
        "func rng(id, n int, ch chan int){\n",
        "    for i:=0; i <n;i++{\n",
        "        ch<-id *100000+(i+1)*1000 +rand.Intn(100);\n",
        "    }\n",
        "}\n",
        "\n",
        "func main(){\n",
        "    rand.Seed(time.Now().UTC().UnixNano())\n",
        "    var ch chan int\n",
        "    ch = make(chan int)\n",
        "\n",
        "    n1,n2 := 8,11\n",
        "    go rng(1,n1,ch)\n",
        "    go rng(2,n2,ch)\n",
        "\n",
        "    for i:= 0; i<n1+n2; i++{\n",
        "        fmt.Printf(\"Mensaje: %d\\n\",<-ch)\n",
        "    }\n",
        "}"
      ],
      "execution_count": null,
      "outputs": [
        {
          "output_type": "stream",
          "text": [
            "Overwriting 2.go\n"
          ],
          "name": "stdout"
        }
      ]
    },
    {
      "cell_type": "code",
      "metadata": {
        "id": "E-oGSqL-ezOF",
        "colab": {
          "base_uri": "https://localhost:8080/",
          "height": 354
        },
        "outputId": "1602dc64-c607-45e0-8730-d4b54dbbc3ce"
      },
      "source": [
        "!go run 2.go"
      ],
      "execution_count": null,
      "outputs": [
        {
          "output_type": "stream",
          "text": [
            "Mensaje: 201076\n",
            "Mensaje: 202083\n",
            "Mensaje: 101010\n",
            "Mensaje: 102061\n",
            "Mensaje: 103065\n",
            "Mensaje: 104036\n",
            "Mensaje: 105098\n",
            "Mensaje: 203023\n",
            "Mensaje: 106067\n",
            "Mensaje: 204017\n",
            "Mensaje: 205044\n",
            "Mensaje: 206092\n",
            "Mensaje: 207050\n",
            "Mensaje: 208025\n",
            "Mensaje: 209056\n",
            "Mensaje: 210077\n",
            "Mensaje: 211057\n",
            "Mensaje: 107026\n",
            "Mensaje: 108054\n"
          ],
          "name": "stdout"
        }
      ]
    },
    {
      "cell_type": "code",
      "metadata": {
        "id": "T5KPfGF9e2EM",
        "colab": {
          "base_uri": "https://localhost:8080/",
          "height": 34
        },
        "outputId": "ac0c01fb-be63-48af-d71d-1ce75ec5e391"
      },
      "source": [
        "%%writefile 3.go\n",
        "package main\n",
        "import(\n",
        "    \"fmt\"\n",
        "    \"math/rand\"\n",
        "    \"time\"\n",
        ")\n",
        "\n",
        "func rng(id, n int, ch chan int){\n",
        "    for i:=0; i <n;i++{\n",
        "        ch<-fmt.Printf(\"Mensaje: %d \\t i:%d \\t Numero:%d\", id, i, num)\n",
        "    }\n",
        "}\n",
        "\n",
        "func main(){\n",
        "    rand.Seed(time.Now().UTC().UnixNano())\n",
        "    var ch chan string\n",
        "    ch = make(chan string)\n",
        "\n",
        "    n1,n2 := 8,11\n",
        "    go rng(1,n1,ch)\n",
        "    go rng(2,n2,ch)\n",
        "\n",
        "    go func(){\n",
        "        for msg := range ch1{\n",
        "            fmt.Printf(\"Mensaje: %s\\n\",msg)\n",
        "        }\n",
        "    }()\n",
        "\n",
        "    for msg:=range ch2{\n",
        "        fmt.Printf(\"Mensaje: %d\\n\",<-ch)\n",
        "    }\n",
        "}"
      ],
      "execution_count": null,
      "outputs": [
        {
          "output_type": "stream",
          "text": [
            "Writing 3.go\n"
          ],
          "name": "stdout"
        }
      ]
    },
    {
      "cell_type": "code",
      "metadata": {
        "id": "Bpq2vZEjidBT",
        "colab": {
          "base_uri": "https://localhost:8080/",
          "height": 141
        },
        "outputId": "2849f519-5d98-4ec7-a3e5-35c09c0d1afb"
      },
      "source": [
        "!go run 3.go"
      ],
      "execution_count": null,
      "outputs": [
        {
          "output_type": "stream",
          "text": [
            "# command-line-arguments\n",
            "./3.go:10:23: multiple-value fmt.Printf() in single-value context\n",
            "./3.go:10:67: undefined: num\n",
            "./3.go:20:12: cannot use ch (type chan string) as type chan int in argument to rng\n",
            "./3.go:21:12: cannot use ch (type chan string) as type chan int in argument to rng\n",
            "./3.go:24:26: undefined: ch1\n",
            "./3.go:29:20: undefined: ch2\n"
          ],
          "name": "stdout"
        }
      ]
    },
    {
      "cell_type": "code",
      "metadata": {
        "id": "roTz46UyihHf",
        "colab": {
          "base_uri": "https://localhost:8080/",
          "height": 34
        },
        "outputId": "01a887f7-2907-487a-af42-775f26cf704a"
      },
      "source": [
        "%%writefile 4.go\n",
        "package main\n",
        "import(\n",
        "    \"fmt\"\n",
        ")\n",
        "\n",
        "const(\n",
        "    MAX=9\n",
        "    K=4\n",
        ")\n",
        "\n",
        "func compress(inC,pipe chan rune){\n",
        "    n :=0\n",
        "    previous:=inC\n",
        "    for c:=range inC{\n",
        "        if c == previous && n<MAX-1{\n",
        "            n++\n",
        "        } else{\n",
        "            if n >0{\n",
        "                pipe<-rune(n+1+48)\n",
        "                n=0\n",
        "            }\n",
        "            pipe<-previous\n",
        "            previous=c\n",
        "        }   \n",
        "    }\n",
        "    close(pipe)\n",
        "}\n",
        "\n",
        "func output(pipe,outC chan rune){\n",
        "    m:=0\n",
        "    for c:= range pipe{\n",
        "        out<-c\n",
        "        m++\n",
        "        if m==K{\n",
        "            outC<-\"\\n\"\n",
        "            m=0\n",
        "        }\n",
        "    }\n",
        "    close(outC)\n",
        "}\n",
        "\n",
        "func main(){\n",
        "    inC:= make(chan rune)\n",
        "    pipe:=make (chan rune)\n",
        "    outC:=make(chan rune)\n",
        "\n",
        "    go compress(inC,pipe)\n",
        "    go output(pipe, outC)\n",
        "\n",
        "    go func(){\n",
        "        str:=\"asdasdksadfjansdkjasfdasfasddf.\"\n",
        "        for _, chr :=range str{\n",
        "            inC<-chr\n",
        "        }\n",
        "        close(inC)\n",
        "    }()\n",
        "\n",
        "    for c:=range outC{\n",
        "        fmt.Printf(\"%c\",c)\n",
        "    }\n",
        "    max :=9\n",
        "    k:=4\n",
        "    var inC chan int\n",
        "    var pipe chan int\n",
        "    var outC chan int\n",
        "}"
      ],
      "execution_count": null,
      "outputs": [
        {
          "output_type": "stream",
          "text": [
            "Writing 4.go\n"
          ],
          "name": "stdout"
        }
      ]
    },
    {
      "cell_type": "code",
      "metadata": {
        "id": "I2QsV9TtwZAU",
        "colab": {
          "base_uri": "https://localhost:8080/",
          "height": 230
        },
        "outputId": "65c04ced-f666-4cab-8abe-bce379e020f4"
      },
      "source": [
        "!go run 4.go"
      ],
      "execution_count": null,
      "outputs": [
        {
          "output_type": "stream",
          "text": [
            "# command-line-arguments\n",
            "./4.go:15:14: invalid operation: c == previous (mismatched types rune and chan rune)\n",
            "./4.go:22:17: cannot use previous (type chan rune) as type rune in send\n",
            "./4.go:23:21: cannot use c (type rune) as type chan rune in assignment\n",
            "./4.go:32:9: undefined: out\n",
            "./4.go:35:19: cannot convert \"\\n\" (type untyped string) to type rune\n",
            "./4.go:63:9: inC redeclared in this block\n",
            "\tprevious declaration at ./4.go:43:5\n",
            "./4.go:64:9: pipe redeclared in this block\n",
            "\tprevious declaration at ./4.go:44:5\n",
            "./4.go:65:9: outC redeclared in this block\n",
            "\tprevious declaration at ./4.go:45:5\n"
          ],
          "name": "stdout"
        }
      ]
    },
    {
      "cell_type": "code",
      "metadata": {
        "id": "1IvzPRNWwceM",
        "colab": {
          "base_uri": "https://localhost:8080/",
          "height": 34
        },
        "outputId": "41b23f00-84b9-4ec7-ec91-ff7bc65eea9c"
      },
      "source": [
        "%%writefile multiplier.go\n",
        "package main\n",
        "\n",
        "import (\n",
        "\t\"fmt\"\n",
        ")\n",
        "\n",
        "var end chan bool\n",
        "\n",
        "func zero(n int, west chan float64) {\n",
        "\tfor i := 0; i < n; i++ {\n",
        "\t\twest <- 0.0\n",
        "\t}\n",
        "\tclose(west)\n",
        "}\n",
        "\n",
        "func source(row []float64, south chan float64) {\n",
        "\tfor _, element := range row {\n",
        "\t\tsouth <- element\n",
        "\t}\n",
        "\tclose(south)\n",
        "}\n",
        "\n",
        "func sink(north chan float64) {\n",
        "\tfor range north {\n",
        "\t}\n",
        "}\n",
        "\n",
        "func result(c [][]float64, i int, east chan float64) {\n",
        "\tj := 0\n",
        "\tfor element := range east {\n",
        "\t\tc[i][j] = element\n",
        "\t\tj++\n",
        "\t}\n",
        "\tend <- true\n",
        "}\n",
        "\n",
        "func multiplier(firstElement float64, north, east, south, west chan float64) {\n",
        "\tfor secondElement := range north {\n",
        "\t\tsum := <-east\n",
        "\t\tsum = sum + firstElement*secondElement\n",
        "\t\tsouth <- secondElement\n",
        "\t\twest <- sum\n",
        "\t}\n",
        "\tclose(south)\n",
        "\tclose(west)\n",
        "}\n",
        "\n",
        "func main() {\n",
        "\ta := [][]float64{{1, 2, 3,2}, {4, 5, 6,3}, {7, 8, 9,1}, {7, 8, 9,1}}\n",
        "\tb := [][]float64{{1, 0, 2,1}, {0, 1, 2,0}, {1, 0, 0,2}, {7, 8, 9,1}}\n",
        "\tc := [][]float64{{0, 0, 0,0}, {0, 0, 0,0}, {0, 0, 0,0},{0, 0, 0,0}}\n",
        "\tend = make(chan bool)\n",
        "\tnra := len(a)\n",
        "\tnca := len(a[0])\n",
        "\tns := make([][]chan float64, nra+1) // canales norte sur, matrix de 4x3\n",
        "\tfor i := range ns {\n",
        "\t\tns[i] = make([]chan float64, nca)\n",
        "\t\tfor j := range ns[i] {\n",
        "\t\t\tns[i][j] = make(chan float64)\n",
        "\t\t}\n",
        "\t}\n",
        "\tew := make([][]chan float64, nra) // canales easte oeste, matrix de 3x4\n",
        "\tfor i := range ew {\n",
        "\t\tew[i] = make([]chan float64, nca+1)\n",
        "\t\tfor j := range ew[i] {\n",
        "\t\t\tew[i][j] = make(chan float64)\n",
        "\t\t}\n",
        "\t}\n",
        "\tfor i := 0; i < nra; i++ {\n",
        "\t\tgo zero(nra, ew[i][nca])\n",
        "\t\tgo result(c, i, ew[i][0])\n",
        "\t}\n",
        "\tfor i := 0; i < nca; i++ {\n",
        "\t\tgo source(b[i], ns[0][i])\n",
        "\t\tgo sink(ns[nra][i])\n",
        "\t}\n",
        "\tfor i := 0; i < nra; i++ {\n",
        "\t\tfor j := 0; j < nca; j++ {\n",
        "\t\t\tgo multiplier(a[i][j],\n",
        "\t\t\t\tns[i][j], ew[i][j+1],\n",
        "\t\t\t\tns[i+1][j], ew[i][j])\n",
        "\t\t}\n",
        "\t}\n",
        "\tfor i := 0; i < nra; i++ {\n",
        "\t\t<-end\n",
        "\t}\n",
        "\tfmt.Println(c)\n",
        "}"
      ],
      "execution_count": null,
      "outputs": [
        {
          "output_type": "stream",
          "text": [
            "Overwriting multiplier.go\n"
          ],
          "name": "stdout"
        }
      ]
    },
    {
      "cell_type": "code",
      "metadata": {
        "id": "3EH8o6qE4RRh",
        "colab": {
          "base_uri": "https://localhost:8080/",
          "height": 34
        },
        "outputId": "fca1b5f4-c67b-4bc7-c6d6-2892fbc241be"
      },
      "source": [
        "!go run multiplier.go"
      ],
      "execution_count": null,
      "outputs": [
        {
          "output_type": "stream",
          "text": [
            "[[18 18 24 9] [31 29 45 19] [23 16 39 26] [23 16 39 26]]\n"
          ],
          "name": "stdout"
        }
      ]
    },
    {
      "cell_type": "code",
      "metadata": {
        "id": "daLt1cM24TWi"
      },
      "source": [
        ""
      ],
      "execution_count": null,
      "outputs": []
    }
  ]
}