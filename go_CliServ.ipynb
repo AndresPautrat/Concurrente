{
  "nbformat": 4,
  "nbformat_minor": 0,
  "metadata": {
    "colab": {
      "name": "DMgo99.ipynb",
      "provenance": [],
      "collapsed_sections": [],
      "authorship_tag": "ABX9TyPEKPz5pwzNXcZ+Kf+BMj1/",
      "include_colab_link": true
    },
    "kernelspec": {
      "name": "python3",
      "display_name": "Python 3"
    }
  },
  "cells": [
    {
      "cell_type": "markdown",
      "metadata": {
        "id": "view-in-github",
        "colab_type": "text"
      },
      "source": [
        "<a href=\"https://colab.research.google.com/github/AndresPautrat/Concurrente/blob/main/go_CliServ.ipynb\" target=\"_parent\"><img src=\"https://colab.research.google.com/assets/colab-badge.svg\" alt=\"Open In Colab\"/></a>"
      ]
    },
    {
      "cell_type": "code",
      "metadata": {
        "id": "AIVAY-9fcHlu",
        "colab": {
          "base_uri": "https://localhost:8080/"
        },
        "outputId": "875e5eb6-c173-4a6a-bdf5-4c749cd0e121"
      },
      "source": [
        "!apt install golang-go 1>/dev/null && go version"
      ],
      "execution_count": null,
      "outputs": [
        {
          "output_type": "stream",
          "text": [
            "\n",
            "WARNING: apt does not have a stable CLI interface. Use with caution in scripts.\n",
            "\n",
            "go version go1.10.4 linux/amd64\n"
          ],
          "name": "stdout"
        }
      ]
    },
    {
      "cell_type": "code",
      "metadata": {
        "id": "QHJM3pgiclgQ",
        "colab": {
          "base_uri": "https://localhost:8080/"
        },
        "outputId": "3b92b802-f11b-4b15-b07a-2363c32934e9"
      },
      "source": [
        "%%writefile serv.go\n",
        "package main\n",
        "\n",
        "import (\n",
        "    \"bufio\"\n",
        "    \"fmt\"\n",
        "    \"net\"\n",
        ")\n",
        "\n",
        "func main(){\n",
        "    ln,_ :=net.Listen(\"tcp\",\"localhost:8000\")\n",
        "    defer ln.Close()\n",
        "    con,_ := ln.Accept()\n",
        "\n",
        "    defer con.Close()\n",
        "\n",
        "    r := bufio.NewReader(con)\n",
        "    msg, _ := r.ReadString('\\n')\n",
        "    fmt.Println(msg)\n",
        "}\n"
      ],
      "execution_count": null,
      "outputs": [
        {
          "output_type": "stream",
          "text": [
            "Overwriting serv.go\n"
          ],
          "name": "stdout"
        }
      ]
    },
    {
      "cell_type": "code",
      "metadata": {
        "id": "M7N4DN-BhN0U",
        "colab": {
          "base_uri": "https://localhost:8080/"
        },
        "outputId": "d991316b-1e7d-4ad6-92e9-be328e3fcf24"
      },
      "source": [
        "%%writefile cli.go\n",
        "package main\n",
        "\n",
        "import (\n",
        "    \"fmt\"\n",
        "    \"net\"\n",
        ")\n",
        "\n",
        "func main(){\n",
        "    con,_ := net.Dial(\"tcp\",\"localhost:8000\")\n",
        "    defer con.Close()\n",
        "\n",
        "    fmt.Fprintln(con, \"Hola soy un cliente\")\n",
        "}\n"
      ],
      "execution_count": null,
      "outputs": [
        {
          "output_type": "stream",
          "text": [
            "Overwriting cli.go\n"
          ],
          "name": "stdout"
        }
      ]
    },
    {
      "cell_type": "code",
      "metadata": {
        "id": "aALJtR9Lh8Vv",
        "colab": {
          "base_uri": "https://localhost:8080/"
        },
        "outputId": "96f1b8b0-f471-44a3-b914-3b5485959b55"
      },
      "source": [
        "%%script bash\n",
        "go build serv.go\n",
        "go build cli.go\n",
        "\n",
        "./serv &\n",
        "sleep 1\n",
        "./cli"
      ],
      "execution_count": null,
      "outputs": [
        {
          "output_type": "stream",
          "text": [
            "Hola soy un cliente\n",
            "\n"
          ],
          "name": "stdout"
        }
      ]
    },
    {
      "cell_type": "code",
      "metadata": {
        "id": "jkiXwHynkzSn",
        "colab": {
          "base_uri": "https://localhost:8080/"
        },
        "outputId": "f9ddfafe-8615-46cc-a6ee-0770923b2f63"
      },
      "source": [
        "%%writefile main.go\n",
        "package main\n",
        "\n",
        "import (\n",
        "    \"fmt\"\n",
        ")\n",
        "\n",
        "func proc(inC <-chan float64, outC chan<- float64) {\n",
        "    min := float64(1<<62)\n",
        "    for num := range inC {\n",
        "        if num < min {\n",
        "            outC<- min\n",
        "            min = num\n",
        "        } else {\n",
        "            outC<- num\n",
        "        }\n",
        "    }\n",
        "    fmt.Printf(\"%.0f \", min)\n",
        "    close(outC)\n",
        "}\n",
        "\n",
        "func main() {\n",
        "    nums := []float64{ 6., 1., 8., 10., 5., 9., 3., 7., 2., 4. }\n",
        "    ch := make([]chan float64, len(nums) + 1)\n",
        "    ch[0] = make(chan float64)\n",
        "    for i := range nums {\n",
        "        ch[i+1] = make(chan float64)\n",
        "        go proc(ch[i], ch[i+1])\n",
        "    }\n",
        "    go func(){\n",
        "        for _, num := range nums {\n",
        "            ch[0]<- num\n",
        "        }\n",
        "        close(ch[0])\n",
        "    }()\n",
        "    for range ch[len(nums)] {\n",
        "    }\n",
        "}"
      ],
      "execution_count": null,
      "outputs": [
        {
          "output_type": "stream",
          "text": [
            "Writing main.go\n"
          ],
          "name": "stdout"
        }
      ]
    },
    {
      "cell_type": "code",
      "metadata": {
        "id": "1KW_5drlsHkC",
        "colab": {
          "base_uri": "https://localhost:8080/"
        },
        "outputId": "db1b901b-c9aa-4791-a371-2802a87c5ca9"
      },
      "source": [
        "!go run main.go"
      ],
      "execution_count": null,
      "outputs": [
        {
          "output_type": "stream",
          "text": [
            "1 2 3 4 5 6 7 8 9 10 "
          ],
          "name": "stdout"
        }
      ]
    },
    {
      "cell_type": "code",
      "metadata": {
        "id": "qpe6BLBwsId2"
      },
      "source": [
        "%%writefile serv.go\n",
        "package main\n",
        "\n",
        "import (\n",
        "    \"bufio\"\n",
        "    \"fmt\"\n",
        "    \"net\"\n",
        ")\n",
        "\n",
        "func main(){\n",
        "    ln,_ :=net.Listen(\"tcp\",\"localhost:8000\")\n",
        "    defer ln.Close()\n",
        "    con,_ := ln.Accept()\n",
        "\n",
        "    defer con.Close()\n",
        "\n",
        "    r := bufio.NewReader(con)\n",
        "    msg, _ := r.ReadString('\\n')\n",
        "    fmt.Println(msg)\n",
        "}"
      ],
      "execution_count": null,
      "outputs": []
    },
    {
      "cell_type": "code",
      "metadata": {
        "id": "HBPGWa_LsRvV"
      },
      "source": [
        "%%writefile cli.go\n",
        "package main\n",
        "\n",
        "import (\n",
        "    \"fmt\"\n",
        "    \"net\"\n",
        ")\n",
        "\n",
        "func main(){\n",
        "    con,_ := net.Dial(\"tcp\",\"localhost:8000\")\n",
        "    defer con.Close()\n",
        "\n",
        "    fmt.Fprintln(con, \"Hola soy un cliente\")\n",
        "}"
      ],
      "execution_count": null,
      "outputs": []
    }
  ]
}