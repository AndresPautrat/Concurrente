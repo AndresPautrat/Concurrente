{
  "nbformat": 4,
  "nbformat_minor": 0,
  "metadata": {
    "colab": {
      "name": "DMgo.ipynb",
      "provenance": [],
      "collapsed_sections": [],
      "authorship_tag": "ABX9TyMXhDdRdbC7kpuN5Tpbt7SN",
      "include_colab_link": true
    },
    "kernelspec": {
      "name": "python3",
      "display_name": "Python 3"
    }
  },
  "cells": [
    {
      "cell_type": "markdown",
      "metadata": {
        "id": "view-in-github",
        "colab_type": "text"
      },
      "source": [
        "<a href=\"https://colab.research.google.com/github/AndresPautrat/Concurrente/blob/main/go_forks.ipynb\" target=\"_parent\"><img src=\"https://colab.research.google.com/assets/colab-badge.svg\" alt=\"Open In Colab\"/></a>"
      ]
    },
    {
      "cell_type": "code",
      "metadata": {
        "id": "O8LDReSges1M",
        "colab": {
          "base_uri": "https://localhost:8080/",
          "height": 852
        },
        "outputId": "5a3e4e96-691b-4eb8-9f74-bd654e5283b9"
      },
      "source": [
        "!apt install golang-go"
      ],
      "execution_count": null,
      "outputs": [
        {
          "output_type": "stream",
          "text": [
            "Reading package lists... Done\n",
            "Building dependency tree       \n",
            "Reading state information... Done\n",
            "The following additional packages will be installed:\n",
            "  golang-1.10-go golang-1.10-race-detector-runtime golang-1.10-src\n",
            "  golang-race-detector-runtime golang-src\n",
            "Suggested packages:\n",
            "  bzr mercurial subversion\n",
            "The following NEW packages will be installed:\n",
            "  golang-1.10-go golang-1.10-race-detector-runtime golang-1.10-src golang-go\n",
            "  golang-race-detector-runtime golang-src\n",
            "0 upgraded, 6 newly installed, 0 to remove and 21 not upgraded.\n",
            "Need to get 40.3 MB of archives.\n",
            "After this operation, 225 MB of additional disk space will be used.\n",
            "Get:1 http://archive.ubuntu.com/ubuntu bionic-updates/main amd64 golang-1.10-src amd64 1.10.4-2ubuntu1~18.04.1 [11.1 MB]\n",
            "Get:2 http://archive.ubuntu.com/ubuntu bionic-updates/main amd64 golang-1.10-go amd64 1.10.4-2ubuntu1~18.04.1 [28.6 MB]\n",
            "Get:3 http://archive.ubuntu.com/ubuntu bionic/main amd64 golang-1.10-race-detector-runtime amd64 0.0+svn285455-0ubuntu1 [478 kB]\n",
            "Get:4 http://archive.ubuntu.com/ubuntu bionic/main amd64 golang-src amd64 2:1.10~4ubuntu1 [3,676 B]\n",
            "Get:5 http://archive.ubuntu.com/ubuntu bionic/main amd64 golang-go amd64 2:1.10~4ubuntu1 [22.0 kB]\n",
            "Get:6 http://archive.ubuntu.com/ubuntu bionic/main amd64 golang-race-detector-runtime amd64 2:1.10~4ubuntu1 [3,456 B]\n",
            "Fetched 40.3 MB in 3s (12.1 MB/s)\n",
            "Selecting previously unselected package golang-1.10-src.\n",
            "(Reading database ... 144611 files and directories currently installed.)\n",
            "Preparing to unpack .../0-golang-1.10-src_1.10.4-2ubuntu1~18.04.1_amd64.deb ...\n",
            "Unpacking golang-1.10-src (1.10.4-2ubuntu1~18.04.1) ...\n",
            "Selecting previously unselected package golang-1.10-go.\n",
            "Preparing to unpack .../1-golang-1.10-go_1.10.4-2ubuntu1~18.04.1_amd64.deb ...\n",
            "Unpacking golang-1.10-go (1.10.4-2ubuntu1~18.04.1) ...\n",
            "Selecting previously unselected package golang-1.10-race-detector-runtime.\n",
            "Preparing to unpack .../2-golang-1.10-race-detector-runtime_0.0+svn285455-0ubuntu1_amd64.deb ...\n",
            "Unpacking golang-1.10-race-detector-runtime (0.0+svn285455-0ubuntu1) ...\n",
            "Selecting previously unselected package golang-src.\n",
            "Preparing to unpack .../3-golang-src_2%3a1.10~4ubuntu1_amd64.deb ...\n",
            "Unpacking golang-src (2:1.10~4ubuntu1) ...\n",
            "Selecting previously unselected package golang-go.\n",
            "Preparing to unpack .../4-golang-go_2%3a1.10~4ubuntu1_amd64.deb ...\n",
            "Unpacking golang-go (2:1.10~4ubuntu1) ...\n",
            "Selecting previously unselected package golang-race-detector-runtime.\n",
            "Preparing to unpack .../5-golang-race-detector-runtime_2%3a1.10~4ubuntu1_amd64.deb ...\n",
            "Unpacking golang-race-detector-runtime (2:1.10~4ubuntu1) ...\n",
            "Setting up golang-1.10-race-detector-runtime (0.0+svn285455-0ubuntu1) ...\n",
            "Setting up golang-race-detector-runtime (2:1.10~4ubuntu1) ...\n",
            "Setting up golang-1.10-src (1.10.4-2ubuntu1~18.04.1) ...\n",
            "Setting up golang-src (2:1.10~4ubuntu1) ...\n",
            "Setting up golang-1.10-go (1.10.4-2ubuntu1~18.04.1) ...\n",
            "Setting up golang-go (2:1.10~4ubuntu1) ...\n",
            "Processing triggers for man-db (2.8.3-2ubuntu0.1) ...\n"
          ],
          "name": "stdout"
        }
      ]
    },
    {
      "cell_type": "code",
      "metadata": {
        "id": "y78dcVF2ZHmb",
        "colab": {
          "base_uri": "https://localhost:8080/",
          "height": 34
        },
        "outputId": "6e06e1af-dca0-42a1-9363-e8c166a52f3a"
      },
      "source": [
        "%%writefile main.go\n",
        "package main\n",
        "import (\n",
        "    \"fmt\"\n",
        ")\n",
        "\n",
        "func proc(inC <-chan float64, outC chan<- float64){\n",
        "    min := float64(1<<62)\n",
        "    for num :=range inC{\n",
        "        if num<min{\n",
        "            outC<-min\n",
        "            min=num\n",
        "        }else{\n",
        "            outC<-num\n",
        "        }\n",
        "    }\n",
        "    fmt.Printf(\"%.0f\",min)\n",
        "    close(outC)\n",
        "}\n",
        "\n",
        "func main(){\n",
        "    nums := []float64{6.,1.,8.,10.,5.,9.,3.,7.,2.,4.}\n",
        "    ch := make([]chan float64,len(nums)+1)\n",
        "    ch[0]=make(chan float64)\n",
        "    for i :=range nums{\n",
        "        ch[i+1]=make(chan float64)\n",
        "        go proc(ch[i],ch[i+1])\n",
        "    }\n",
        "    go func(){\n",
        "        for _,num:=range nums{\n",
        "            ch[0]<-num\n",
        "        }\n",
        "        close(ch[0])\n",
        "    }()\n",
        "    for range ch[len(nums)]{\n",
        "        \n",
        "    }\n",
        "}"
      ],
      "execution_count": null,
      "outputs": [
        {
          "output_type": "stream",
          "text": [
            "Overwriting main.go\n"
          ],
          "name": "stdout"
        }
      ]
    },
    {
      "cell_type": "code",
      "metadata": {
        "id": "EDlyKXEbfEun",
        "colab": {
          "base_uri": "https://localhost:8080/",
          "height": 34
        },
        "outputId": "0bb7ec50-5fd5-444b-ba18-2ce30c27c50e"
      },
      "source": [
        "!go run main.go"
      ],
      "execution_count": null,
      "outputs": [
        {
          "output_type": "stream",
          "text": [
            "12345678910"
          ],
          "name": "stdout"
        }
      ]
    },
    {
      "cell_type": "code",
      "metadata": {
        "id": "vjp6wzeXfGvf",
        "colab": {
          "base_uri": "https://localhost:8080/",
          "height": 34
        },
        "outputId": "f6a3f365-ec21-43c7-e693-50370e01926e"
      },
      "source": [
        "%%writefile 1.go\n",
        "package main\n",
        "import (\n",
        "    \"fmt\"\n",
        ")\n",
        "\n",
        "func main(){\n",
        "    ach:=make(chan string, 1)\n",
        "    ach<-\"Hola\"\n",
        "    fmt.Println(<-ach)\n",
        "}"
      ],
      "execution_count": null,
      "outputs": [
        {
          "output_type": "stream",
          "text": [
            "Overwriting 1.go\n"
          ],
          "name": "stdout"
        }
      ]
    },
    {
      "cell_type": "code",
      "metadata": {
        "id": "JNuuUSYnmNCt",
        "colab": {
          "base_uri": "https://localhost:8080/",
          "height": 34
        },
        "outputId": "eeb4bc28-75f2-4cda-fd90-82f6fcd11487"
      },
      "source": [
        "!go run 1.go"
      ],
      "execution_count": null,
      "outputs": [
        {
          "output_type": "stream",
          "text": [
            "Hola\n"
          ],
          "name": "stdout"
        }
      ]
    },
    {
      "cell_type": "code",
      "metadata": {
        "id": "TGYO1VZvmOV9",
        "colab": {
          "base_uri": "https://localhost:8080/",
          "height": 34
        },
        "outputId": "ba1caa86-0cf8-4f28-a2c3-69c6dcbb3cf9"
      },
      "source": [
        "%%writefile dp.go\n",
        "package main\n",
        "import (\n",
        "    \"fmt\"\n",
        ")\n",
        "\n",
        "func philosopher(leftFork chan bool, rigthFork chan bool){\n",
        "    for {\n",
        "      fmt.Println(\"Thinking\")\n",
        "      <-leftFork\n",
        "      <-rigthFork\n",
        "      fmt.Println(\"Eating\")\n",
        "      leftFork<-true\n",
        "      rigthFork<-true\n",
        "    }\n",
        "}\n",
        "func fork(chFork chan bool){\n",
        "    for{\n",
        "        chFork<-true\n",
        "        <-chFork\n",
        "    }\n",
        "}\n",
        "\n",
        "func main(){\n",
        "    forks:=make([]chan bool,5)\n",
        "    for i:= range forks{\n",
        "        forks[i]=make(chan bool,1)\n",
        "    }\n",
        "    go philosopher(forks[0],forks[1])\n",
        "    go fork(forks[0])\n",
        "    go philosopher(forks[1],forks[2])\n",
        "    go fork(forks[1])\n",
        "    go philosopher(forks[2],forks[3])\n",
        "    go fork(forks[2])\n",
        "    go philosopher(forks[3],forks[4])\n",
        "    go fork(forks[3])\n",
        "    go philosopher(forks[4],forks[0])\n",
        "    fork(forks[4])\n",
        "}\n",
        "\n"
      ],
      "execution_count": null,
      "outputs": [
        {
          "output_type": "stream",
          "text": [
            "Overwriting dp.go\n"
          ],
          "name": "stdout"
        }
      ]
    },
    {
      "cell_type": "code",
      "metadata": {
        "id": "CMGCypXcyr89"
      },
      "source": [
        "!go run dp.go"
      ],
      "execution_count": null,
      "outputs": []
    },
    {
      "cell_type": "code",
      "metadata": {
        "id": "rLVA-ls8yuv2",
        "colab": {
          "base_uri": "https://localhost:8080/",
          "height": 34
        },
        "outputId": "7e6eb105-4464-45e0-a35d-bc710497a8b5"
      },
      "source": [
        "%%writefile dp2.go\n",
        "package main\n",
        "import (\n",
        "    \"fmt\"\n",
        ")\n",
        "\n",
        "func p(id int,ch chan string){\n",
        "    for i := 0; i<10;i++{\n",
        "        ch<-fmt.Sprintf(\"%d hola %d\", id, i)\n",
        "    }\n",
        "}\n",
        "\n",
        "func main(){\n",
        "    ch1 := make(chan string)\n",
        "    ch2 := make(chan string)\n",
        "\n",
        "    go p(1,ch1)\n",
        "    go p(2,ch2)\n",
        "\n",
        "    for i := 0; i < 10; i++{\n",
        "        select{\n",
        "            case msg1:=<-ch1:\n",
        "              fmt.Printf(\"%s %s\\n\",msg1,<-ch2)\n",
        "            case msg2 := <-ch2:\n",
        "              fmt.Printf(\"%s %s\\n\",msg2, <-ch1)\n",
        "        }\n",
        "    }\n",
        "}"
      ],
      "execution_count": null,
      "outputs": [
        {
          "output_type": "stream",
          "text": [
            "Overwriting dp2.go\n"
          ],
          "name": "stdout"
        }
      ]
    },
    {
      "cell_type": "code",
      "metadata": {
        "id": "hKzUm_XQ3ffc",
        "colab": {
          "base_uri": "https://localhost:8080/",
          "height": 194
        },
        "outputId": "28f427de-e5af-4d22-ad10-e3d46cbe22ac"
      },
      "source": [
        "!go run dp2.go"
      ],
      "execution_count": null,
      "outputs": [
        {
          "output_type": "stream",
          "text": [
            "1 hola 0 2 hola 0\n",
            "1 hola 1 2 hola 1\n",
            "2 hola 2 1 hola 2\n",
            "1 hola 3 2 hola 3\n",
            "2 hola 4 1 hola 4\n",
            "2 hola 5 1 hola 5\n",
            "2 hola 6 1 hola 6\n",
            "2 hola 7 1 hola 7\n",
            "1 hola 8 2 hola 8\n",
            "2 hola 9 1 hola 9\n"
          ],
          "name": "stdout"
        }
      ]
    },
    {
      "cell_type": "code",
      "metadata": {
        "id": "GnGj80ca3hho"
      },
      "source": [
        ""
      ],
      "execution_count": null,
      "outputs": []
    }
  ]
}